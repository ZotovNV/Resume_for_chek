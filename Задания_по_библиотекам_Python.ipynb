{
  "nbformat": 4,
  "nbformat_minor": 0,
  "metadata": {
    "colab": {
      "provenance": [],
      "authorship_tag": "ABX9TyM1axDoJ0DPmkmbGBITnVeE",
      "include_colab_link": true
    },
    "kernelspec": {
      "name": "python3",
      "display_name": "Python 3"
    },
    "language_info": {
      "name": "python"
    }
  },
  "cells": [
    {
      "cell_type": "markdown",
      "metadata": {
        "id": "view-in-github",
        "colab_type": "text"
      },
      "source": [
        "<a href=\"https://colab.research.google.com/github/ZotovNV/Resume_for_chek/blob/main/%D0%97%D0%B0%D0%B4%D0%B0%D0%BD%D0%B8%D1%8F_%D0%BF%D0%BE_%D0%B1%D0%B8%D0%B1%D0%BB%D0%B8%D0%BE%D1%82%D0%B5%D0%BA%D0%B0%D0%BC_Python.ipynb\" target=\"_parent\"><img src=\"https://colab.research.google.com/assets/colab-badge.svg\" alt=\"Open In Colab\"/></a>"
      ]
    },
    {
      "cell_type": "markdown",
      "source": [
        "«Библиотека pandas»"
      ],
      "metadata": {
        "id": "ACBG6QbGwrvQ"
      }
    },
    {
      "cell_type": "markdown",
      "source": [
        "Задание 1:\n",
        ">Скачайте с сайта https://grouplens.org/datasets/movielens/ датасет любого размера. Определите, какому фильму было выставлено больше всего оценок 5.0."
      ],
      "metadata": {
        "id": "Wwv8nBoq39ov"
      }
    },
    {
      "cell_type": "code",
      "execution_count": null,
      "metadata": {
        "id": "OL78IADf37wc"
      },
      "outputs": [],
      "source": [
        "import pandas as pd\n",
        "from zipfile import ZipFile\n",
        "\n",
        "url = 'путь к zip файлу на компьютере /ml-25m.zip'\n",
        "zf = ZipFile(url)\n",
        "data = pd.read_csv(zf.open('ml-25m/ratings.csv', mode = 'r')) # фрейм с  id  и рейтингом\n",
        "data_film = pd.read_csv(zf.open('ml-25m/movies.csv', mode = 'r')) # фрейм с id и названиями фильмов\n",
        "\n",
        "only_5 = data[data['rating'] == 5] # фрейм с рейтингом где только 5*\n",
        "only_5.info()\n",
        "\n",
        "# value_counts: only_5.movieId.value_counts()\n",
        "# за место цепочки .groupby('movieId').size().reset_index(name = 'count')\n",
        "\n",
        "grouped = only_5.groupby('movieId').size().reset_index(name = 'count') # группировка, подсчет кол-ва оценок и обновление значение индекса\n",
        "grouped.head()\n",
        "\n",
        "sorted_grouped = grouped.sort_values(by='count', ascending=False) # сортировка по убыванию\n",
        "sorted_grouped.head()\n",
        "\n",
        "top_movie = data_film[data_film['movieId'] == sorted_grouped.iloc[0]['movieId']]['title'].iloc[0] # результат во второй части найдет значение 318, по этому значению будет искать во фрейме с фильмами название фильма колонку.\n",
        "print(top_movie)\n",
        "\n",
        "# результат Shawshank Redemption, The (1994)\n",
        "\n"
      ]
    },
    {
      "cell_type": "markdown",
      "source": [
        "Задание 2:\n",
        ">По данным файла power.csv (находится в архиве в разделе Материалы к лекции «Библиотека Pandas» - файл “Дополнительные файлы для домашнего задания”) посчитайте суммарное потребление стран Прибалтики (Латвия, Литва и Эстония) категорий 4, 12 и 21 за период с 2005 по 2010 год. Не учитывайте в расчётах отрицательные значения quantity."
      ],
      "metadata": {
        "id": "CZ_LRdlp-wP4"
      }
    },
    {
      "cell_type": "code",
      "source": [
        "import pandas as pd\n",
        "from zipfile import ZipFile\n",
        "\n",
        "url = 'путь/10._Основы_pandas.zip'\n",
        "zf = ZipFile(url)\n",
        "data_power = pd.read_csv(zf.open('power.csv', mode = 'r'))"
      ],
      "metadata": {
        "id": "Rya-DwZX-03o"
      },
      "execution_count": null,
      "outputs": []
    },
    {
      "cell_type": "code",
      "source": [
        "# Фильтр через или | 2 мя способами написания\n",
        "filtr_1 = data_power[((data_power['country'] == 'Latvia')|(data_power.country == 'Lithuania' )|(data_power.country == 'Estonia'))&(data_power['category'].isin([4, 12, 21]))]\n",
        "filtr_1.info()"
      ],
      "metadata": {
        "id": "nMeviL1XUWJ8"
      },
      "execution_count": null,
      "outputs": []
    },
    {
      "cell_type": "code",
      "source": [
        "# фильтр через перечисление\n",
        "filtr_2 = data_power[(data_power['country'].isin(['Latvia', 'Lithuania', 'Estonia']))&(data_power['category'].isin([4, 12, 21]))]\n",
        "filtr_2.info()"
      ],
      "metadata": {
        "id": "WD0vAaqnUXHD"
      },
      "execution_count": null,
      "outputs": []
    },
    {
      "cell_type": "code",
      "source": [
        "# значение filtr_3 = filtr_2 = filtr_1 ожно подставить любое эффект одинаковый.\n",
        "\n",
        "baltic_countries = ['Latvia', 'Lithuania', 'Estonia']\n",
        "categories = [4, 12, 21]\n",
        "filtr_3 = data_power[(data_power['country'].isin(baltic_countries)) & (data_power['category'].isin(categories))]\n",
        "#filtr_3.info()\n",
        "\n",
        "filtr_year = filtr_3[(filtr_3['year'] >= 2005) & (filtr_3['year'] <= 2010)]\n",
        "#filtr_year.info()\n",
        "\n",
        "filtr_pozitive = filtr_year[filtr_year['quantity'] > 0]\n",
        "#filtr_pozitive.info()\n",
        "\n",
        "total_consumption = filtr_pozitive['quantity'].sum()\n",
        "\n",
        "print(total_consumption)\n",
        "\n",
        "# результат 240580.0"
      ],
      "metadata": {
        "id": "b-OQVXNEUanY"
      },
      "execution_count": null,
      "outputs": []
    },
    {
      "cell_type": "markdown",
      "source": [
        "Задание 3:\n",
        ">Выберите страницу любого сайта с табличными данными. Импортируйте таблицы в pandas DataFrame. Вы можете взять любые страницы.\n",
        "Примеры страниц:\n",
        "\n",
        "https://fortrader.org/quotes \\\n",
        "https://pythonworld.ru...strok.html"
      ],
      "metadata": {
        "id": "u1stQP0NV1wd"
      }
    },
    {
      "cell_type": "code",
      "source": [
        "import pandas as pd\n",
        "\n",
        "url = 'https://fortrader.org/quotes'\n",
        "tables = pd.read_html(url)\n",
        "\n",
        "data = tables[3]\n",
        "\n",
        "print(data)"
      ],
      "metadata": {
        "id": "yNPoiVvuV7Ym"
      },
      "execution_count": null,
      "outputs": []
    },
    {
      "cell_type": "markdown",
      "source": [
        "«Функции и работа с данными»"
      ],
      "metadata": {
        "id": "00qnazD4xshS"
      }
    },
    {
      "cell_type": "markdown",
      "source": [
        "Задание 1:\n",
        ">Напишите функцию, которая классифицирует фильмы из материалов занятия по правилам:\n",
        "\n",
        "* оценка 2 и ниже — низкий рейтинг; \\\n",
        "* оценка 4 и ниже — средний рейтинг; \\\n",
        "* оценка 4.5 и 5 — высокий рейтинг. \\\n",
        "Результат классификации запишите в столбец class. \\"
      ],
      "metadata": {
        "id": "vHZBwdUpAnrY"
      }
    },
    {
      "cell_type": "code",
      "execution_count": null,
      "metadata": {
        "id": "9o8KYFqvAmPS"
      },
      "outputs": [],
      "source": [
        "import pandas as pd\n",
        "from zipfile import ZipFile\n",
        "\n",
        "\n",
        "url = 'путь/ml-latest-small.zip'\n",
        "zf = ZipFile(url)\n",
        "ratings = pd.read_csv(zf.open('ml-latest-small/ratings.csv', mode = 'r'))"
      ]
    },
    {
      "cell_type": "code",
      "source": [
        "# простейшая Python функция:\n",
        "\n",
        "def classificator(n):\n",
        "    if n <= 2:\n",
        "        return 'низкий рейтинг'\n",
        "    elif (n > 2) and (n <= 4):\n",
        "        return 'средний рейтинг'\n",
        "    elif (n >= 4.5) and (n <= 5):\n",
        "        return 'высокий рейтинг'"
      ],
      "metadata": {
        "id": "G_HijE_yB7KT"
      },
      "execution_count": null,
      "outputs": []
    },
    {
      "cell_type": "code",
      "source": [
        "# ну и само обращение к функции, подставляя значения из столбца rating фрейма ratings , создавая новый стобец class и возвращаем туда результаты вычислений функции.\n",
        "ratings['class'] = ratings['rating'].apply(classificator)\n",
        "ratings.head()"
      ],
      "metadata": {
        "id": "f4XQrfVxCDpk"
      },
      "execution_count": null,
      "outputs": []
    },
    {
      "cell_type": "markdown",
      "source": [
        "Второй вариант: \\\n",
        ">Ради интереса глянул что мне напишет GPT и результат его записей немного изменив применил на задании. \\\n",
        "Как понял он вытаскивает значение рейтинга, смотрит по интервалу bins где проходит значение, а дальше по индексу вставляет значение из labels в class_2"
      ],
      "metadata": {
        "id": "H-KoqYk7F3i7"
      }
    },
    {
      "cell_type": "code",
      "source": [
        "# т.е. тут даже и функция то не понадобилась, единственное в задании есть нюанс с промежутком между 4 - 4.5 проставил пусто.\n",
        "ratings['class_2'] = pd.cut(ratings['rating'], bins=[0,2,4,4.5,5], labels=['низкий рейтинг', 'средний рейтинг', '', 'высокий рейтинг' ])\n",
        "ratings.head()"
      ],
      "metadata": {
        "id": "RTH_JrA-GMnl"
      },
      "execution_count": null,
      "outputs": []
    },
    {
      "cell_type": "code",
      "source": [
        "# А вот вариант с помещением ф-ции непосредственно в запрос, с разбегу так и не сообразил.\n",
        "ratings['class_3'] = ratings['rating'].apply(lambda n: ... )\n",
        "ratings.head()"
      ],
      "metadata": {
        "id": "FBwEvkzvIrhd"
      },
      "execution_count": null,
      "outputs": []
    },
    {
      "cell_type": "markdown",
      "source": [
        "Задание 2: \\\n",
        ">Используйте файл keywords.csv.\\\n",
        "Нужно написать гео-классификатор, который каждой строке сможет выставить географическую принадлежность определённому региону. Т. е. если поисковый запрос содержит название города региона, то в столбце ‘region’ пишется название этого региона. Если поисковый запрос не содержит названия города, то ставим ‘undefined’.\\\n",
        "Правила распределения по регионам Центр, Северо-Запад и Дальний Восток: \\\n",
        "geo_data \\\n",
        "Результат классификации запишите в отдельный столбец region."
      ],
      "metadata": {
        "id": "fmLEmJmTcH7E"
      }
    },
    {
      "cell_type": "code",
      "source": [
        "import pandas as pd\n",
        "from zipfile import ZipFile\n",
        "# вытащили файлик\n",
        "url = 'путь/ml-latest-small.zip'\n",
        "zf = ZipFile(url)\n",
        "keywords = pd.read_csv(zf.open('ml-latest-small/keywords.csv', mode = 'r'))\n",
        "# копи паст словаря\n",
        "geo_data = {\n",
        "    'Центр': ['москва', 'тула', 'ярославль'],\n",
        "    'Северо-Запад': ['петербург', 'псков', 'мурманск'],\n",
        "    'Дальний Восток': ['владивосток', 'сахалин', 'хабаровск']\n",
        "}\n",
        "\n",
        "# функция, попадая в функцию текст запроса разбивается по разделителям и принимает нижний регистр.\n",
        "# далее проходим по словарю вытаскивая ключи и значения. После проходим по списку вытаскивая слова.\n",
        "# после чего ищем соответствие слова из списка  со списком городов, если такой находим, то возвращаем регион.\n",
        "def sorting(keyword):\n",
        "    keyword_list = keyword.lower().split()\n",
        "    for region, city_list in geo_data.items():\n",
        "        for word in keyword_list:\n",
        "            if word in city_list:\n",
        "                return region\n",
        "    return 'undefined'\n",
        "\n",
        "keywords['location'] = keywords['keyword'].apply(sorting)\n",
        "keywords[keywords['location'] !='undefined'].head()\n",
        "keywords[keywords['location'] =='undefined'].head()"
      ],
      "metadata": {
        "id": "KIYKKiNhcVtW"
      },
      "execution_count": null,
      "outputs": []
    },
    {
      "cell_type": "markdown",
      "source": [
        "«Продвинутый pandas»"
      ],
      "metadata": {
        "id": "_Wb8f2fGy9g3"
      }
    },
    {
      "cell_type": "markdown",
      "source": [
        "Задание 1:\n",
        ">Для датафрейма log из материалов занятия создайте столбец source_type по правилам: \\\n",
        "\n",
        "* если источник traffic_source равен Yandex или Google, то в source_type ставится organic; \\\n",
        "* для источников paid и email из России ставим ad; \\\n",
        "* для источников paid и email не из России ставим other; \\\n",
        "* все остальные варианты берём из traffic_source без изменений. \\"
      ],
      "metadata": {
        "id": "SRTcmQZIdQ3H"
      }
    },
    {
      "cell_type": "code",
      "execution_count": null,
      "metadata": {
        "id": "2s3BGbL3dH_n"
      },
      "outputs": [],
      "source": [
        "import pandas as pd\n",
        "from zipfile import ZipFile\n",
        "\n",
        "url = 'C:/Users/User/Desktop/Никита обучение/доп_материалы_к_пандас_1_и_2.zip'\n",
        "zf = ZipFile(url)\n",
        "visit_log = pd.read_csv(zf.open('visit_log.csv', mode = 'r'), sep = ';')\n",
        "# visit_log.loc[visit_log.traffic_source.isin(['yandex', 'google']), 'traffic_type'] = 'organic'\n",
        "\n",
        "def source_type(row):\n",
        "    if row['traffic_source'] == 'yandex' or row['traffic_source'] == 'google':\n",
        "        return 'organic'\n",
        "    elif (row['traffic_source'] == 'paid' or row['traffic_source'] == 'email') and row['region'] == 'Russia':\n",
        "        return 'ad'\n",
        "    elif (row['traffic_source'] == 'paid' or row['traffic_source'] == 'email') and row['region'] != 'Russia':\n",
        "        return 'other'\n",
        "    else:\n",
        "        return row['traffic_source']\n",
        "\n",
        "visit_log['source_type'] = visit_log.apply(source_type, axis=1)\n",
        "visit_log.head()\n"
      ]
    },
    {
      "cell_type": "markdown",
      "source": [
        "Задание 2:\n",
        ">В файле URLs.txt содержатся URL страниц новостного сайта. Вам нужно отфильтровать его по адресам страниц с текстами новостей. Известно, что шаблон страницы новостей имеет внутри URL конструкцию: /, затем 8 цифр, затем дефис.\n",
        "\n",
        "Выполните действия:\n",
        "* Прочитайте содержимое файла с датафрейм. \\\n",
        "* Отфильтруйте страницы с текстом новостей, используя метод str.contains и регулярное выражение в соответствие с заданным шаблоном."
      ],
      "metadata": {
        "id": "vkmmpy13dU8f"
      }
    },
    {
      "cell_type": "code",
      "source": [
        "import pandas as pd\n",
        "from zipfile import ZipFile\n",
        "\n",
        "url = 'C:/Users/User/Desktop/Никита обучение/доп_материалы_к_пандас_1_и_2.zip'\n",
        "zf = ZipFile(url)\n",
        "urls = pd.read_csv(zf.open('URLs.txt', mode = 'r'))\n",
        "\n",
        "\n",
        "news_urls = urls[urls['url'].str.contains('/\\d{8}-')]\n",
        "news_urls.info()"
      ],
      "metadata": {
        "id": "vDQ3Zs9MdY9V"
      },
      "execution_count": null,
      "outputs": []
    },
    {
      "cell_type": "markdown",
      "source": [
        "Задание 3:\n",
        ">Используйте файл с оценками фильмов ml-latest-small/ratings.csv. Посчитайте среднее время жизни пользователей, которые выставили более 100 оценок. Под временем жизни понимается разница между максимальным и минимальным значениями столбца timestamp для данного значения userId."
      ],
      "metadata": {
        "id": "ODptBbB7dbUM"
      }
    },
    {
      "cell_type": "code",
      "source": [
        "import pandas as pd\n",
        "from zipfile import ZipFile\n",
        "\n",
        "url = 'C:/Users/User/Desktop/Никита обучение/ml-25m.zip'\n",
        "zf = ZipFile(url)\n",
        "ratings = pd.read_csv(zf.open('ml-25m/ratings.csv', mode = 'r'))\n",
        "# ratings.groupby('userId').agg({'timestamp': ['min', 'max', 'count']})\n",
        "\n",
        "# Сгруппировали по id пользователя и посчитали кол-во оценок.\n",
        "user_ratings_count = ratings.groupby('userId').count()['rating']\n",
        "# user_ratings_count.head()\n",
        "# Сформировали список с id пользователей где кол-во выставленных оценок больше 100.\n",
        "active_users = user_ratings_count[user_ratings_count > 100].index.tolist()\n",
        "# print(active_users)\n",
        "# Отсортировали фрейм по списку пользователей выставивших больше 100 оценок\n",
        "active_ratings = ratings[ratings['userId'].isin(active_users)]\n",
        "# active_ratings.head()\n",
        "# Сгруппировали по id пользователя, нашли самое большое и самое маленькое значение timestamp.\n",
        "user_lifetime = active_ratings.groupby('userId').agg({'timestamp': ['max', 'min']})\n",
        "# Посчитали среднее время жизни пользователей.\n",
        "# user_lifetime.head()\n",
        "mean_lifetime = (user_lifetime['timestamp']['max'] - user_lifetime['timestamp']['min']).mean()\n",
        "print(mean_lifetime)\n",
        "\n",
        "# результат 42697549.00773351\n",
        "\n",
        "\n"
      ],
      "metadata": {
        "id": "C99vkcWCdetk"
      },
      "execution_count": null,
      "outputs": []
    },
    {
      "cell_type": "markdown",
      "source": [
        "Задание 4:\n",
        ">Дана статистика услуг перевозок клиентов компании по типам (см. файл “Python_13_join.ipynb” в разделе «Материалы для лекции “Продвинутый pandas”» ---- Ноутбуки к лекции «Продвинутый pandas»). Нужно сформировать две таблицы:\n",
        "\n",
        "* таблицу с тремя типами выручки для каждого client_id без указания адреса клиента;\n",
        "* аналогичную таблицу по типам выручки с указанием адреса клиента.\n",
        "Обратите внимание, что в процессе объединения таблиц данные не должны теряться."
      ],
      "metadata": {
        "id": "PgjVxH3-diW7"
      }
    },
    {
      "cell_type": "code",
      "source": [
        "import pandas as pd\n",
        "\n",
        "rzd = pd.DataFrame(\n",
        "    {\n",
        "        'client_id': [111, 112, 113, 114, 115],\n",
        "        'rzd_revenue': [1093, 2810, 10283, 5774, 981]\n",
        "    }\n",
        ")\n",
        "\n",
        "auto = pd.DataFrame(\n",
        "    {\n",
        "        'client_id': [113, 114, 115, 116, 117],\n",
        "        'auto_revenue': [57483, 83, 912, 4834, 98]\n",
        "    }\n",
        ")\n",
        "\n",
        "air = pd.DataFrame(\n",
        "    {\n",
        "        'client_id': [115, 116, 117, 118],\n",
        "        'air_revenue': [81, 4, 13, 173]\n",
        "    }\n",
        ")\n",
        "\n",
        "client_base = pd.DataFrame(\n",
        "    {\n",
        "        'client_id': [111, 112, 113, 114, 115, 116, 117, 118],\n",
        "        'address': ['Комсомольская 4', 'Энтузиастов 8а', 'Левобережная 1а', 'Мира 14', 'ЗЖБИиДК 1',\n",
        "                    'Строителей 18', 'Панфиловская 33', 'Мастеркова 4']\n",
        "    }\n",
        ")"
      ],
      "metadata": {
        "id": "j414XyVSdlG9"
      },
      "execution_count": null,
      "outputs": []
    },
    {
      "cell_type": "code",
      "source": [
        "revenue = rzd.merge(auto, on='client_id', how='outer').merge(air, on='client_id', how='outer')\n",
        "revenue.head(10)"
      ],
      "metadata": {
        "colab": {
          "base_uri": "https://localhost:8080/",
          "height": 300
        },
        "id": "iUcAVzzxdqPn",
        "outputId": "524688a4-f47c-4257-ba54-b4ab7bbdd7fc"
      },
      "execution_count": null,
      "outputs": [
        {
          "output_type": "execute_result",
          "data": {
            "text/plain": [
              "   client_id  rzd_revenue  auto_revenue  air_revenue\n",
              "0        111       1093.0           NaN          NaN\n",
              "1        112       2810.0           NaN          NaN\n",
              "2        113      10283.0       57483.0          NaN\n",
              "3        114       5774.0          83.0          NaN\n",
              "4        115        981.0         912.0         81.0\n",
              "5        116          NaN        4834.0          4.0\n",
              "6        117          NaN          98.0         13.0\n",
              "7        118          NaN           NaN        173.0"
            ],
            "text/html": [
              "\n",
              "\n",
              "  <div id=\"df-a209c859-763e-4cb5-8e1d-bf1b23af3c6d\">\n",
              "    <div class=\"colab-df-container\">\n",
              "      <div>\n",
              "<style scoped>\n",
              "    .dataframe tbody tr th:only-of-type {\n",
              "        vertical-align: middle;\n",
              "    }\n",
              "\n",
              "    .dataframe tbody tr th {\n",
              "        vertical-align: top;\n",
              "    }\n",
              "\n",
              "    .dataframe thead th {\n",
              "        text-align: right;\n",
              "    }\n",
              "</style>\n",
              "<table border=\"1\" class=\"dataframe\">\n",
              "  <thead>\n",
              "    <tr style=\"text-align: right;\">\n",
              "      <th></th>\n",
              "      <th>client_id</th>\n",
              "      <th>rzd_revenue</th>\n",
              "      <th>auto_revenue</th>\n",
              "      <th>air_revenue</th>\n",
              "    </tr>\n",
              "  </thead>\n",
              "  <tbody>\n",
              "    <tr>\n",
              "      <th>0</th>\n",
              "      <td>111</td>\n",
              "      <td>1093.0</td>\n",
              "      <td>NaN</td>\n",
              "      <td>NaN</td>\n",
              "    </tr>\n",
              "    <tr>\n",
              "      <th>1</th>\n",
              "      <td>112</td>\n",
              "      <td>2810.0</td>\n",
              "      <td>NaN</td>\n",
              "      <td>NaN</td>\n",
              "    </tr>\n",
              "    <tr>\n",
              "      <th>2</th>\n",
              "      <td>113</td>\n",
              "      <td>10283.0</td>\n",
              "      <td>57483.0</td>\n",
              "      <td>NaN</td>\n",
              "    </tr>\n",
              "    <tr>\n",
              "      <th>3</th>\n",
              "      <td>114</td>\n",
              "      <td>5774.0</td>\n",
              "      <td>83.0</td>\n",
              "      <td>NaN</td>\n",
              "    </tr>\n",
              "    <tr>\n",
              "      <th>4</th>\n",
              "      <td>115</td>\n",
              "      <td>981.0</td>\n",
              "      <td>912.0</td>\n",
              "      <td>81.0</td>\n",
              "    </tr>\n",
              "    <tr>\n",
              "      <th>5</th>\n",
              "      <td>116</td>\n",
              "      <td>NaN</td>\n",
              "      <td>4834.0</td>\n",
              "      <td>4.0</td>\n",
              "    </tr>\n",
              "    <tr>\n",
              "      <th>6</th>\n",
              "      <td>117</td>\n",
              "      <td>NaN</td>\n",
              "      <td>98.0</td>\n",
              "      <td>13.0</td>\n",
              "    </tr>\n",
              "    <tr>\n",
              "      <th>7</th>\n",
              "      <td>118</td>\n",
              "      <td>NaN</td>\n",
              "      <td>NaN</td>\n",
              "      <td>173.0</td>\n",
              "    </tr>\n",
              "  </tbody>\n",
              "</table>\n",
              "</div>\n",
              "      <button class=\"colab-df-convert\" onclick=\"convertToInteractive('df-a209c859-763e-4cb5-8e1d-bf1b23af3c6d')\"\n",
              "              title=\"Convert this dataframe to an interactive table.\"\n",
              "              style=\"display:none;\">\n",
              "\n",
              "  <svg xmlns=\"http://www.w3.org/2000/svg\" height=\"24px\"viewBox=\"0 0 24 24\"\n",
              "       width=\"24px\">\n",
              "    <path d=\"M0 0h24v24H0V0z\" fill=\"none\"/>\n",
              "    <path d=\"M18.56 5.44l.94 2.06.94-2.06 2.06-.94-2.06-.94-.94-2.06-.94 2.06-2.06.94zm-11 1L8.5 8.5l.94-2.06 2.06-.94-2.06-.94L8.5 2.5l-.94 2.06-2.06.94zm10 10l.94 2.06.94-2.06 2.06-.94-2.06-.94-.94-2.06-.94 2.06-2.06.94z\"/><path d=\"M17.41 7.96l-1.37-1.37c-.4-.4-.92-.59-1.43-.59-.52 0-1.04.2-1.43.59L10.3 9.45l-7.72 7.72c-.78.78-.78 2.05 0 2.83L4 21.41c.39.39.9.59 1.41.59.51 0 1.02-.2 1.41-.59l7.78-7.78 2.81-2.81c.8-.78.8-2.07 0-2.86zM5.41 20L4 18.59l7.72-7.72 1.47 1.35L5.41 20z\"/>\n",
              "  </svg>\n",
              "      </button>\n",
              "\n",
              "\n",
              "\n",
              "    <div id=\"df-7ad906d4-279b-49f7-8890-d7edd54d94d2\">\n",
              "      <button class=\"colab-df-quickchart\" onclick=\"quickchart('df-7ad906d4-279b-49f7-8890-d7edd54d94d2')\"\n",
              "              title=\"Suggest charts.\"\n",
              "              style=\"display:none;\">\n",
              "\n",
              "<svg xmlns=\"http://www.w3.org/2000/svg\" height=\"24px\"viewBox=\"0 0 24 24\"\n",
              "     width=\"24px\">\n",
              "    <g>\n",
              "        <path d=\"M19 3H5c-1.1 0-2 .9-2 2v14c0 1.1.9 2 2 2h14c1.1 0 2-.9 2-2V5c0-1.1-.9-2-2-2zM9 17H7v-7h2v7zm4 0h-2V7h2v10zm4 0h-2v-4h2v4z\"/>\n",
              "    </g>\n",
              "</svg>\n",
              "      </button>\n",
              "    </div>\n",
              "\n",
              "<style>\n",
              "  .colab-df-quickchart {\n",
              "    background-color: #E8F0FE;\n",
              "    border: none;\n",
              "    border-radius: 50%;\n",
              "    cursor: pointer;\n",
              "    display: none;\n",
              "    fill: #1967D2;\n",
              "    height: 32px;\n",
              "    padding: 0 0 0 0;\n",
              "    width: 32px;\n",
              "  }\n",
              "\n",
              "  .colab-df-quickchart:hover {\n",
              "    background-color: #E2EBFA;\n",
              "    box-shadow: 0px 1px 2px rgba(60, 64, 67, 0.3), 0px 1px 3px 1px rgba(60, 64, 67, 0.15);\n",
              "    fill: #174EA6;\n",
              "  }\n",
              "\n",
              "  [theme=dark] .colab-df-quickchart {\n",
              "    background-color: #3B4455;\n",
              "    fill: #D2E3FC;\n",
              "  }\n",
              "\n",
              "  [theme=dark] .colab-df-quickchart:hover {\n",
              "    background-color: #434B5C;\n",
              "    box-shadow: 0px 1px 3px 1px rgba(0, 0, 0, 0.15);\n",
              "    filter: drop-shadow(0px 1px 2px rgba(0, 0, 0, 0.3));\n",
              "    fill: #FFFFFF;\n",
              "  }\n",
              "</style>\n",
              "\n",
              "    <script>\n",
              "      async function quickchart(key) {\n",
              "        const containerElement = document.querySelector('#' + key);\n",
              "        const charts = await google.colab.kernel.invokeFunction(\n",
              "            'suggestCharts', [key], {});\n",
              "      }\n",
              "    </script>\n",
              "\n",
              "      <script>\n",
              "\n",
              "function displayQuickchartButton(domScope) {\n",
              "  let quickchartButtonEl =\n",
              "    domScope.querySelector('#df-7ad906d4-279b-49f7-8890-d7edd54d94d2 button.colab-df-quickchart');\n",
              "  quickchartButtonEl.style.display =\n",
              "    google.colab.kernel.accessAllowed ? 'block' : 'none';\n",
              "}\n",
              "\n",
              "        displayQuickchartButton(document);\n",
              "      </script>\n",
              "      <style>\n",
              "    .colab-df-container {\n",
              "      display:flex;\n",
              "      flex-wrap:wrap;\n",
              "      gap: 12px;\n",
              "    }\n",
              "\n",
              "    .colab-df-convert {\n",
              "      background-color: #E8F0FE;\n",
              "      border: none;\n",
              "      border-radius: 50%;\n",
              "      cursor: pointer;\n",
              "      display: none;\n",
              "      fill: #1967D2;\n",
              "      height: 32px;\n",
              "      padding: 0 0 0 0;\n",
              "      width: 32px;\n",
              "    }\n",
              "\n",
              "    .colab-df-convert:hover {\n",
              "      background-color: #E2EBFA;\n",
              "      box-shadow: 0px 1px 2px rgba(60, 64, 67, 0.3), 0px 1px 3px 1px rgba(60, 64, 67, 0.15);\n",
              "      fill: #174EA6;\n",
              "    }\n",
              "\n",
              "    [theme=dark] .colab-df-convert {\n",
              "      background-color: #3B4455;\n",
              "      fill: #D2E3FC;\n",
              "    }\n",
              "\n",
              "    [theme=dark] .colab-df-convert:hover {\n",
              "      background-color: #434B5C;\n",
              "      box-shadow: 0px 1px 3px 1px rgba(0, 0, 0, 0.15);\n",
              "      filter: drop-shadow(0px 1px 2px rgba(0, 0, 0, 0.3));\n",
              "      fill: #FFFFFF;\n",
              "    }\n",
              "  </style>\n",
              "\n",
              "      <script>\n",
              "        const buttonEl =\n",
              "          document.querySelector('#df-a209c859-763e-4cb5-8e1d-bf1b23af3c6d button.colab-df-convert');\n",
              "        buttonEl.style.display =\n",
              "          google.colab.kernel.accessAllowed ? 'block' : 'none';\n",
              "\n",
              "        async function convertToInteractive(key) {\n",
              "          const element = document.querySelector('#df-a209c859-763e-4cb5-8e1d-bf1b23af3c6d');\n",
              "          const dataTable =\n",
              "            await google.colab.kernel.invokeFunction('convertToInteractive',\n",
              "                                                     [key], {});\n",
              "          if (!dataTable) return;\n",
              "\n",
              "          const docLinkHtml = 'Like what you see? Visit the ' +\n",
              "            '<a target=\"_blank\" href=https://colab.research.google.com/notebooks/data_table.ipynb>data table notebook</a>'\n",
              "            + ' to learn more about interactive tables.';\n",
              "          element.innerHTML = '';\n",
              "          dataTable['output_type'] = 'display_data';\n",
              "          await google.colab.output.renderOutput(dataTable, element);\n",
              "          const docLink = document.createElement('div');\n",
              "          docLink.innerHTML = docLinkHtml;\n",
              "          element.appendChild(docLink);\n",
              "        }\n",
              "      </script>\n",
              "    </div>\n",
              "  </div>\n"
            ]
          },
          "metadata": {},
          "execution_count": 2
        }
      ]
    },
    {
      "cell_type": "code",
      "source": [
        "revenue_with_address = revenue.merge(client_base, on='client_id', how='left')\n",
        "revenue_with_address.head(10)"
      ],
      "metadata": {
        "colab": {
          "base_uri": "https://localhost:8080/",
          "height": 300
        },
        "id": "Zm9bACsbdrMZ",
        "outputId": "35f0cbe8-18c9-4435-d730-790cb9d4d81c"
      },
      "execution_count": null,
      "outputs": [
        {
          "output_type": "execute_result",
          "data": {
            "text/plain": [
              "   client_id  rzd_revenue  auto_revenue  air_revenue          address\n",
              "0        111       1093.0           NaN          NaN  Комсомольская 4\n",
              "1        112       2810.0           NaN          NaN   Энтузиастов 8а\n",
              "2        113      10283.0       57483.0          NaN  Левобережная 1а\n",
              "3        114       5774.0          83.0          NaN          Мира 14\n",
              "4        115        981.0         912.0         81.0        ЗЖБИиДК 1\n",
              "5        116          NaN        4834.0          4.0    Строителей 18\n",
              "6        117          NaN          98.0         13.0  Панфиловская 33\n",
              "7        118          NaN           NaN        173.0     Мастеркова 4"
            ],
            "text/html": [
              "\n",
              "\n",
              "  <div id=\"df-ac57ad3f-54c8-4027-a5b2-d68cc58f678c\">\n",
              "    <div class=\"colab-df-container\">\n",
              "      <div>\n",
              "<style scoped>\n",
              "    .dataframe tbody tr th:only-of-type {\n",
              "        vertical-align: middle;\n",
              "    }\n",
              "\n",
              "    .dataframe tbody tr th {\n",
              "        vertical-align: top;\n",
              "    }\n",
              "\n",
              "    .dataframe thead th {\n",
              "        text-align: right;\n",
              "    }\n",
              "</style>\n",
              "<table border=\"1\" class=\"dataframe\">\n",
              "  <thead>\n",
              "    <tr style=\"text-align: right;\">\n",
              "      <th></th>\n",
              "      <th>client_id</th>\n",
              "      <th>rzd_revenue</th>\n",
              "      <th>auto_revenue</th>\n",
              "      <th>air_revenue</th>\n",
              "      <th>address</th>\n",
              "    </tr>\n",
              "  </thead>\n",
              "  <tbody>\n",
              "    <tr>\n",
              "      <th>0</th>\n",
              "      <td>111</td>\n",
              "      <td>1093.0</td>\n",
              "      <td>NaN</td>\n",
              "      <td>NaN</td>\n",
              "      <td>Комсомольская 4</td>\n",
              "    </tr>\n",
              "    <tr>\n",
              "      <th>1</th>\n",
              "      <td>112</td>\n",
              "      <td>2810.0</td>\n",
              "      <td>NaN</td>\n",
              "      <td>NaN</td>\n",
              "      <td>Энтузиастов 8а</td>\n",
              "    </tr>\n",
              "    <tr>\n",
              "      <th>2</th>\n",
              "      <td>113</td>\n",
              "      <td>10283.0</td>\n",
              "      <td>57483.0</td>\n",
              "      <td>NaN</td>\n",
              "      <td>Левобережная 1а</td>\n",
              "    </tr>\n",
              "    <tr>\n",
              "      <th>3</th>\n",
              "      <td>114</td>\n",
              "      <td>5774.0</td>\n",
              "      <td>83.0</td>\n",
              "      <td>NaN</td>\n",
              "      <td>Мира 14</td>\n",
              "    </tr>\n",
              "    <tr>\n",
              "      <th>4</th>\n",
              "      <td>115</td>\n",
              "      <td>981.0</td>\n",
              "      <td>912.0</td>\n",
              "      <td>81.0</td>\n",
              "      <td>ЗЖБИиДК 1</td>\n",
              "    </tr>\n",
              "    <tr>\n",
              "      <th>5</th>\n",
              "      <td>116</td>\n",
              "      <td>NaN</td>\n",
              "      <td>4834.0</td>\n",
              "      <td>4.0</td>\n",
              "      <td>Строителей 18</td>\n",
              "    </tr>\n",
              "    <tr>\n",
              "      <th>6</th>\n",
              "      <td>117</td>\n",
              "      <td>NaN</td>\n",
              "      <td>98.0</td>\n",
              "      <td>13.0</td>\n",
              "      <td>Панфиловская 33</td>\n",
              "    </tr>\n",
              "    <tr>\n",
              "      <th>7</th>\n",
              "      <td>118</td>\n",
              "      <td>NaN</td>\n",
              "      <td>NaN</td>\n",
              "      <td>173.0</td>\n",
              "      <td>Мастеркова 4</td>\n",
              "    </tr>\n",
              "  </tbody>\n",
              "</table>\n",
              "</div>\n",
              "      <button class=\"colab-df-convert\" onclick=\"convertToInteractive('df-ac57ad3f-54c8-4027-a5b2-d68cc58f678c')\"\n",
              "              title=\"Convert this dataframe to an interactive table.\"\n",
              "              style=\"display:none;\">\n",
              "\n",
              "  <svg xmlns=\"http://www.w3.org/2000/svg\" height=\"24px\"viewBox=\"0 0 24 24\"\n",
              "       width=\"24px\">\n",
              "    <path d=\"M0 0h24v24H0V0z\" fill=\"none\"/>\n",
              "    <path d=\"M18.56 5.44l.94 2.06.94-2.06 2.06-.94-2.06-.94-.94-2.06-.94 2.06-2.06.94zm-11 1L8.5 8.5l.94-2.06 2.06-.94-2.06-.94L8.5 2.5l-.94 2.06-2.06.94zm10 10l.94 2.06.94-2.06 2.06-.94-2.06-.94-.94-2.06-.94 2.06-2.06.94z\"/><path d=\"M17.41 7.96l-1.37-1.37c-.4-.4-.92-.59-1.43-.59-.52 0-1.04.2-1.43.59L10.3 9.45l-7.72 7.72c-.78.78-.78 2.05 0 2.83L4 21.41c.39.39.9.59 1.41.59.51 0 1.02-.2 1.41-.59l7.78-7.78 2.81-2.81c.8-.78.8-2.07 0-2.86zM5.41 20L4 18.59l7.72-7.72 1.47 1.35L5.41 20z\"/>\n",
              "  </svg>\n",
              "      </button>\n",
              "\n",
              "\n",
              "\n",
              "    <div id=\"df-e85c51ca-c61d-4e95-8342-79c5e9b2b6b6\">\n",
              "      <button class=\"colab-df-quickchart\" onclick=\"quickchart('df-e85c51ca-c61d-4e95-8342-79c5e9b2b6b6')\"\n",
              "              title=\"Suggest charts.\"\n",
              "              style=\"display:none;\">\n",
              "\n",
              "<svg xmlns=\"http://www.w3.org/2000/svg\" height=\"24px\"viewBox=\"0 0 24 24\"\n",
              "     width=\"24px\">\n",
              "    <g>\n",
              "        <path d=\"M19 3H5c-1.1 0-2 .9-2 2v14c0 1.1.9 2 2 2h14c1.1 0 2-.9 2-2V5c0-1.1-.9-2-2-2zM9 17H7v-7h2v7zm4 0h-2V7h2v10zm4 0h-2v-4h2v4z\"/>\n",
              "    </g>\n",
              "</svg>\n",
              "      </button>\n",
              "    </div>\n",
              "\n",
              "<style>\n",
              "  .colab-df-quickchart {\n",
              "    background-color: #E8F0FE;\n",
              "    border: none;\n",
              "    border-radius: 50%;\n",
              "    cursor: pointer;\n",
              "    display: none;\n",
              "    fill: #1967D2;\n",
              "    height: 32px;\n",
              "    padding: 0 0 0 0;\n",
              "    width: 32px;\n",
              "  }\n",
              "\n",
              "  .colab-df-quickchart:hover {\n",
              "    background-color: #E2EBFA;\n",
              "    box-shadow: 0px 1px 2px rgba(60, 64, 67, 0.3), 0px 1px 3px 1px rgba(60, 64, 67, 0.15);\n",
              "    fill: #174EA6;\n",
              "  }\n",
              "\n",
              "  [theme=dark] .colab-df-quickchart {\n",
              "    background-color: #3B4455;\n",
              "    fill: #D2E3FC;\n",
              "  }\n",
              "\n",
              "  [theme=dark] .colab-df-quickchart:hover {\n",
              "    background-color: #434B5C;\n",
              "    box-shadow: 0px 1px 3px 1px rgba(0, 0, 0, 0.15);\n",
              "    filter: drop-shadow(0px 1px 2px rgba(0, 0, 0, 0.3));\n",
              "    fill: #FFFFFF;\n",
              "  }\n",
              "</style>\n",
              "\n",
              "    <script>\n",
              "      async function quickchart(key) {\n",
              "        const containerElement = document.querySelector('#' + key);\n",
              "        const charts = await google.colab.kernel.invokeFunction(\n",
              "            'suggestCharts', [key], {});\n",
              "      }\n",
              "    </script>\n",
              "\n",
              "      <script>\n",
              "\n",
              "function displayQuickchartButton(domScope) {\n",
              "  let quickchartButtonEl =\n",
              "    domScope.querySelector('#df-e85c51ca-c61d-4e95-8342-79c5e9b2b6b6 button.colab-df-quickchart');\n",
              "  quickchartButtonEl.style.display =\n",
              "    google.colab.kernel.accessAllowed ? 'block' : 'none';\n",
              "}\n",
              "\n",
              "        displayQuickchartButton(document);\n",
              "      </script>\n",
              "      <style>\n",
              "    .colab-df-container {\n",
              "      display:flex;\n",
              "      flex-wrap:wrap;\n",
              "      gap: 12px;\n",
              "    }\n",
              "\n",
              "    .colab-df-convert {\n",
              "      background-color: #E8F0FE;\n",
              "      border: none;\n",
              "      border-radius: 50%;\n",
              "      cursor: pointer;\n",
              "      display: none;\n",
              "      fill: #1967D2;\n",
              "      height: 32px;\n",
              "      padding: 0 0 0 0;\n",
              "      width: 32px;\n",
              "    }\n",
              "\n",
              "    .colab-df-convert:hover {\n",
              "      background-color: #E2EBFA;\n",
              "      box-shadow: 0px 1px 2px rgba(60, 64, 67, 0.3), 0px 1px 3px 1px rgba(60, 64, 67, 0.15);\n",
              "      fill: #174EA6;\n",
              "    }\n",
              "\n",
              "    [theme=dark] .colab-df-convert {\n",
              "      background-color: #3B4455;\n",
              "      fill: #D2E3FC;\n",
              "    }\n",
              "\n",
              "    [theme=dark] .colab-df-convert:hover {\n",
              "      background-color: #434B5C;\n",
              "      box-shadow: 0px 1px 3px 1px rgba(0, 0, 0, 0.15);\n",
              "      filter: drop-shadow(0px 1px 2px rgba(0, 0, 0, 0.3));\n",
              "      fill: #FFFFFF;\n",
              "    }\n",
              "  </style>\n",
              "\n",
              "      <script>\n",
              "        const buttonEl =\n",
              "          document.querySelector('#df-ac57ad3f-54c8-4027-a5b2-d68cc58f678c button.colab-df-convert');\n",
              "        buttonEl.style.display =\n",
              "          google.colab.kernel.accessAllowed ? 'block' : 'none';\n",
              "\n",
              "        async function convertToInteractive(key) {\n",
              "          const element = document.querySelector('#df-ac57ad3f-54c8-4027-a5b2-d68cc58f678c');\n",
              "          const dataTable =\n",
              "            await google.colab.kernel.invokeFunction('convertToInteractive',\n",
              "                                                     [key], {});\n",
              "          if (!dataTable) return;\n",
              "\n",
              "          const docLinkHtml = 'Like what you see? Visit the ' +\n",
              "            '<a target=\"_blank\" href=https://colab.research.google.com/notebooks/data_table.ipynb>data table notebook</a>'\n",
              "            + ' to learn more about interactive tables.';\n",
              "          element.innerHTML = '';\n",
              "          dataTable['output_type'] = 'display_data';\n",
              "          await google.colab.output.renderOutput(dataTable, element);\n",
              "          const docLink = document.createElement('div');\n",
              "          docLink.innerHTML = docLinkHtml;\n",
              "          element.appendChild(docLink);\n",
              "        }\n",
              "      </script>\n",
              "    </div>\n",
              "  </div>\n"
            ]
          },
          "metadata": {},
          "execution_count": 3
        }
      ]
    }
  ]
}