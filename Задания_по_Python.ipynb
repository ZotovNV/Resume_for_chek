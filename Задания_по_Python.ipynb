{
  "nbformat": 4,
  "nbformat_minor": 0,
  "metadata": {
    "colab": {
      "provenance": [],
      "authorship_tag": "ABX9TyOP8rMAdEoUDGZEqpLnCDMB",
      "include_colab_link": true
    },
    "kernelspec": {
      "name": "python3",
      "display_name": "Python 3"
    },
    "language_info": {
      "name": "python"
    }
  },
  "cells": [
    {
      "cell_type": "markdown",
      "metadata": {
        "id": "view-in-github",
        "colab_type": "text"
      },
      "source": [
        "<a href=\"https://colab.research.google.com/github/ZotovNV/Resume_for_chek/blob/main/%D0%97%D0%B0%D0%B4%D0%B0%D0%BD%D0%B8%D1%8F_%D0%BF%D0%BE_Python.ipynb\" target=\"_parent\"><img src=\"https://colab.research.google.com/assets/colab-badge.svg\" alt=\"Open In Colab\"/></a>"
      ]
    },
    {
      "cell_type": "markdown",
      "source": [
        "«Основы Python»"
      ],
      "metadata": {
        "id": "YGLpRgOAc0KZ"
      }
    },
    {
      "cell_type": "markdown",
      "source": [
        "Задание 1:\n",
        ">Даны 2 переменных, в которых хранятся строки произвольной длины: phrase_1 и phrase_2.\\\n",
        "Напишите код, который проверяет какая из этих строк длиннее."
      ],
      "metadata": {
        "id": "uJgf9MYDYWmf"
      }
    },
    {
      "cell_type": "code",
      "source": [
        "phrase_1 = 'Насколько проще было бы писать программы, если бы не заказчики'\n",
        "phrase_2 = '640Кб должно хватить для любых задач. Билл Гейтс (по легенде)'\n",
        "\n",
        "if len(phrase_1) < len(phrase_2):\n",
        "  print('Фраза 2 длиннее фразы 1')\n",
        "elif len(phrase_1) > len(phrase_2):\n",
        "  print('Фраза 1 длинее фразы 2')\n",
        "else:\n",
        "  print('Фразы равной длины')"
      ],
      "metadata": {
        "colab": {
          "base_uri": "https://localhost:8080/"
        },
        "id": "CaSDZiO4CJm3",
        "outputId": "061b52ab-ae8d-4253-9984-b0eade881968"
      },
      "execution_count": null,
      "outputs": [
        {
          "output_type": "stream",
          "name": "stdout",
          "text": [
            "Фразы равной длины\n"
          ]
        }
      ]
    },
    {
      "cell_type": "markdown",
      "source": [
        "Задание 2:\n",
        ">Дана переменная, в которой хранится число (год). Необходимо написать программу, которая выведет, является ли данный год високосным или обычным."
      ],
      "metadata": {
        "id": "Vo2lhe-5ZPAO"
      }
    },
    {
      "cell_type": "code",
      "source": [
        "phrase_1 = input(\"Введите первую строку: \")\n",
        "phrase_2 = input(\"Введите вторую строку: \")\n",
        "if len(phrase_1) < len(phrase_2):\n",
        "  print('Фраза 2 длиннее фразы 1')\n",
        "elif len(phrase_1) > len(phrase_2):\n",
        "  print('Фраза 1 длинее фразы 2')\n",
        "else:\n",
        "  print('Фразы равной длины')\n"
      ],
      "metadata": {
        "colab": {
          "base_uri": "https://localhost:8080/"
        },
        "id": "H1GQFvmXouWx",
        "outputId": "e32b66f5-4397-4b16-b693-af5abdc7fc22"
      },
      "execution_count": null,
      "outputs": [
        {
          "output_type": "stream",
          "name": "stdout",
          "text": [
            "Введите первую строку: 234423423\n",
            "Введите вторую строку: 222\n",
            "Фраза 1 длинее фразы 2\n"
          ]
        }
      ]
    },
    {
      "cell_type": "markdown",
      "source": [
        "Вариант 2:"
      ],
      "metadata": {
        "id": "HzUxlU5nIiGH"
      }
    },
    {
      "cell_type": "code",
      "source": [
        "year =int(input(\"Введите год:\"))\n",
        "\n",
        "if year %4 == 0:\n",
        "  print('Год високосный')\n",
        "else:\n",
        "  print('Год не високосный')"
      ],
      "metadata": {
        "colab": {
          "base_uri": "https://localhost:8080/"
        },
        "id": "8Vc_4P4zIjMZ",
        "outputId": "45bdd05e-37de-4e56-afbf-6c57d01bab8b"
      },
      "execution_count": null,
      "outputs": [
        {
          "output_type": "stream",
          "name": "stdout",
          "text": [
            "Введите год:2019\n",
            "Год не високосный\n"
          ]
        }
      ]
    },
    {
      "cell_type": "code",
      "source": [
        "# после просмотра вебинара переписал чисто для пробы.\n",
        "\n",
        "year =int(input(\"Введите год:\"))\n",
        "print('Год високосный') if year %4 == 0 else print('Год не високосный')"
      ],
      "metadata": {
        "colab": {
          "base_uri": "https://localhost:8080/"
        },
        "id": "IbPvtcPQ1Dov",
        "outputId": "b339fc5e-5db3-4d6e-a8da-d88220569228"
      },
      "execution_count": null,
      "outputs": [
        {
          "output_type": "stream",
          "name": "stdout",
          "text": [
            "Введите год:2020\n",
            "Год високосный\n"
          ]
        }
      ]
    },
    {
      "cell_type": "markdown",
      "source": [
        "Задание 3:\n",
        ">Необходимо написать программу, которая будет запрашивать у пользователя месяц и дату рождения и выводить соответствующий знак зодиака."
      ],
      "metadata": {
        "id": "2TKnBON9I6kO"
      }
    },
    {
      "cell_type": "code",
      "source": [
        "month = int(input(\"Введите месяц рождения:\"))\n",
        "day = int(input(\"Введите число рождения:\"))\n",
        "if month < 1 or month > 12 or day < 1 or day > 31:\n",
        "  print(\"Ошибка ввода даты\")\n",
        "else:\n",
        "  if month == 1:\n",
        "    if day <= 19:\n",
        "      print(\"Ваш знак зодиака: Козерог\")\n",
        "    else:\n",
        "      print(\"Ваш знак зодиака: Водолей\")\n",
        "  elif month == 2:\n",
        "    if day <= 18:\n",
        "      print(\"Ваш знак зодиака: Водолей\")\n",
        "    else:\n",
        "      print(\"Ваш знак зодиака: Рыбы\")\n",
        "  elif month == 3:\n",
        "    if day <= 20:\n",
        "      print(\"Ваш знак зодиака: Рыбы\")\n",
        "    else:\n",
        "      print(\"Ваш знак зодиака: Овен\")\n",
        "  elif month == 4:\n",
        "    if day <= 19:\n",
        "      print(\"Ваш знак зодиака: Овен\")\n",
        "    else:\n",
        "      print(\"Ваш знак зодиака: Телец\")\n",
        "  elif month == 5:\n",
        "    if day <= 20:\n",
        "      print(\"Ваш знак зодиака: Телец\")\n",
        "    else:\n",
        "      print(\"Ваш знак зодиака: Близнецы\")\n",
        "  elif month == 6:\n",
        "    if day <= 21:\n",
        "      print(\"Ваш знак зодиака: Близнецы\")\n",
        "    else:\n",
        "      print(\"Ваш знак зодиака: Рак\")\n",
        "  elif month == 7:\n",
        "    if day <= 22:\n",
        "      print(\"Ваш знак зодиака: Рак\")\n",
        "    else:\n",
        "      print(\"Ваш знак зодиака: Лев\")\n",
        "  elif month == 8:\n",
        "    if day <= 22:\n",
        "      print(\"Ваш знак зодиака: Лев\")\n",
        "    else:\n",
        "      print(\"Ваш знак зодиака: Дева\")\n",
        "  elif month == 9:\n",
        "    if day <= 22:\n",
        "      print(\"Ваш знак зодиака: Дева\")\n",
        "    else:\n",
        "      print(\"Ваш знак зодиака: Весы\")\n",
        "  elif month == 10:\n",
        "    if day <= 23:\n",
        "      print(\"Ваш знак зодиака: Весы\")\n",
        "    else:\n",
        "      print(\"Ваш знак зодиака: Скорпион\")\n",
        "  elif month == 11:\n",
        "    if day <= 21:\n",
        "      print(\"Ваш знак зодиака: Скорпион\")\n",
        "    else:\n",
        "      print(\"Ваш знак зодиака: Стрелец\")\n",
        "  elif month == 12:\n",
        "    if day <= 21:\n",
        "      print(\"Ваш знак зодиака: Стрелец\")\n",
        "    else:\n",
        "      print(\"Ваш знак зодиака: Козерог\")"
      ],
      "metadata": {
        "colab": {
          "base_uri": "https://localhost:8080/"
        },
        "id": "qajmXi50QGkv",
        "outputId": "b657c612-6e0a-4683-c61e-bc6ed912109f"
      },
      "execution_count": null,
      "outputs": [
        {
          "output_type": "stream",
          "name": "stdout",
          "text": [
            "Введите месяц рождения:12\n",
            "Введите число рождения:32\n",
            "Ошибка ввода\n"
          ]
        }
      ]
    },
    {
      "cell_type": "markdown",
      "source": [
        "Задание 4:\n",
        ">Вам нужно написать программу для подбора упаковок по размерам товара. Размеры (ширина, длина, высота) хранятся в переменных (в сантиметрах):\n",
        "\n",
        "Используйте следующие правила:\n",
        "\n",
        "* если каждое из трех измерений менее или равно 15 сантиметрам, то выведите на экран \"Коробка №1\";\n",
        "* если хотя бы одно из измерений больше 2 метров, то выводите \"Упаковка для лыж\";\n",
        "* если хотя бы одно из измерений больше 15 сантиметров, но менее 50 сантиметров, то выводите \"Коробка №2\";\n",
        "* во всех остальных случаях выводите \"Коробка №3\"."
      ],
      "metadata": {
        "id": "buIOuVDbSVRN"
      }
    },
    {
      "cell_type": "code",
      "source": [
        "width = int(input('Введите ширину товара: '))\n",
        "length = int(input('Введите длину товара: '))\n",
        "height = int(input('Введите высоту товара: '))\n",
        "\n",
        "if width <= 15 and length <=15 and height <=15:\n",
        "  print('Коробка №1')\n",
        "elif max(width, length, height)>200:\n",
        "  print(\"Упаковка для лыж\")\n",
        "elif 15<width<50 or 15<length<50 or 15<height<50:\n",
        "  print(\"Коробка №2\")\n",
        "else:\n",
        "  print('Коробка №3')"
      ],
      "metadata": {
        "colab": {
          "base_uri": "https://localhost:8080/"
        },
        "id": "wbNjr6gRSWrh",
        "outputId": "d4b3d6de-4b89-46e7-b06a-30dc7963449e"
      },
      "execution_count": null,
      "outputs": [
        {
          "output_type": "stream",
          "name": "stdout",
          "text": [
            "Введите ширину товара: 70\n",
            "Введите длину товара: 60\n",
            "Введите высоту товара: 80\n",
            "Коробка №3\n"
          ]
        }
      ]
    },
    {
      "cell_type": "markdown",
      "source": [
        "Задание 5:\n",
        ">Дана переменная, в которой хранится шестизначное число (номер проездного билета). Напишите программу, которая будет определять, является ли данный билет \"счастливым\". Билет считается счастливым, если сумма первых трех цифр совпадает с суммой последних трех цифр номера.\\\n",
        "Вариант первый \"опережающий\" через цикл:\n"
      ],
      "metadata": {
        "id": "PeD_ckBTYJc_"
      }
    },
    {
      "cell_type": "code",
      "source": [
        "ticket = input(\"Введите номер билета:\")\n",
        "if len(ticket)!=6:\n",
        "  print('В билете должно быть 6 цифр')\n",
        "else:\n",
        "  if sum(int(i) for i in str(ticket)[:3]) == sum(int(i) for i in str(ticket)[3:]):\n",
        "    print('Счастливый билет')\n",
        "  else:\n",
        "    print('Несчастливый билет')\n",
        "\n",
        "  #пояснялка берем первые 3 знака из строки переменной ticket слева и заносим их в цикл по сумме i, а во втором случае 3 знака справа.\n"
      ],
      "metadata": {
        "colab": {
          "base_uri": "https://localhost:8080/"
        },
        "id": "CMTOK7foYLL8",
        "outputId": "d79d6da2-bed4-4e86-98e7-26c4f95374e5"
      },
      "execution_count": null,
      "outputs": [
        {
          "output_type": "stream",
          "name": "stdout",
          "text": [
            "Введите номер билета:678549\n",
            "Несчастливый билет\n"
          ]
        }
      ]
    },
    {
      "cell_type": "markdown",
      "source": [
        "Задание 5 (вариант второй):"
      ],
      "metadata": {
        "id": "aP5PFnMvhbHm"
      }
    },
    {
      "cell_type": "code",
      "source": [
        "ticket = input(\"Введите номер билета:\")\n",
        "if len(ticket)!=6:\n",
        "  print('В билете должно быть 6 цифр')\n",
        "else:\n",
        "  sum1 = int(ticket[0])+int(ticket[1])+int(ticket[2])\n",
        "  sum2 = int(ticket[3])+int(ticket[4])+int(ticket[5])\n",
        "  if sum1==sum2:\n",
        "    print('Happy ticket')\n",
        "  else:\n",
        "    print('Not happy ticket')"
      ],
      "metadata": {
        "colab": {
          "base_uri": "https://localhost:8080/"
        },
        "id": "pNitx0j1hvSC",
        "outputId": "2ac82ac2-6fb0-4e39-ad89-15c4c6e02ea6"
      },
      "execution_count": null,
      "outputs": [
        {
          "output_type": "stream",
          "name": "stdout",
          "text": [
            "Введите номер билета:324234234\n",
            "В билете должно быть 6 цифр\n"
          ]
        }
      ]
    },
    {
      "cell_type": "markdown",
      "source": [
        "Задание 6:\n",
        ">Напишите программу, которая сможет вычислять площади трех фигур (круг, треугольник и прямоугольник). Тип фигуры запрашиваем через пользовательский ввод, после чего делаем запрос характеристик фигуры:\n",
        "\n",
        "* если пользователь выбрал круг, запрашиваем его радиус;\n",
        "* если треугольник – длины трех его сторон;\n",
        "* если прямоугольник – длины двух его сторон."
      ],
      "metadata": {
        "id": "79C5qZBdjq2O"
      }
    },
    {
      "cell_type": "code",
      "source": [
        "figure = input(\"Введите тип фигуры(круг, треугольник, прямоугольник):\")\n",
        "if figure == \"круг\":\n",
        "  rad = float(input(\"Введите радиус круга:\"))\n",
        "  area = 3.14*rad**2\n",
        "  print(\"Площадь круга:\", area)\n",
        "elif figure == \"треугольник\":\n",
        "  a = float(input(\"Введите длину первой стороны треугольника:\"))\n",
        "  b = float(input(\"Введите длину второй стороны треугольника:\"))\n",
        "  с = float(input(\"Введите длину третьей стороны треугольника:\"))\n",
        "  p=(a+b+c)/2 # половина периметра треугольника\n",
        "  area = (p*(p-a)*(p-b)*(p-c))**0.5\n",
        "  print(\"Площадь треугольника:\", area)\n",
        "elif figure == \"прямоугольник\":\n",
        "  a = float(input(\"Введите длину первой стороны прямоугольника:\"))\n",
        "  b = float(input(\"Введите длину второй стороны прямоугольника:\"))\n",
        "  area = a*b\n",
        "  print(\"Площадь прямоугольника:\", area)\n",
        "else:\n",
        "  print(\"Площадь таких фигур не считает!\")\n"
      ],
      "metadata": {
        "colab": {
          "base_uri": "https://localhost:8080/"
        },
        "id": "boM-h2-BjsWQ",
        "outputId": "af97ff02-da30-4403-840c-7e1e577168f0"
      },
      "execution_count": null,
      "outputs": [
        {
          "output_type": "stream",
          "name": "stdout",
          "text": [
            "Введите тип вигуры(круг, треугольник, прямоугольник):прямоугольник\n",
            "Введите длину первой стороны прямоугольника:40\n",
            "Введите длину второй стороны прямоугольника:20\n",
            "Площадь прямоугольника: 800.0\n"
          ]
        }
      ]
    },
    {
      "cell_type": "markdown",
      "source": [
        "«Типы данных и циклы. Часть 1»"
      ],
      "metadata": {
        "id": "S8PJR8S3dCLn"
      }
    },
    {
      "cell_type": "markdown",
      "source": [
        "Задание 1 (без регулярок):\n",
        "\n",
        ">Дана переменная, в которой хранится слово из латинских букв. Напишите код, который выводит на экран:\n",
        "\n",
        "* среднюю букву, если число букв в слове нечетное;\n",
        "* две средних буквы, если число букв четное."
      ],
      "metadata": {
        "id": "K1ShctrKr4L_"
      }
    },
    {
      "cell_type": "code",
      "execution_count": null,
      "metadata": {
        "colab": {
          "base_uri": "https://localhost:8080/"
        },
        "id": "7auRnPInp3fm",
        "outputId": "9a713be5-1def-404f-cd60-b73541666d2b"
      },
      "outputs": [
        {
          "output_type": "stream",
          "name": "stdout",
          "text": [
            "Введите слово: корова\n",
            "ро\n"
          ]
        }
      ],
      "source": [
        "word = input(\"Введите слово: \")\n",
        "if len(word) % 2 == 0:\n",
        "  print(word[len(word)//2-1:len(word)//2+1])  # Находит индексы положения букв слева и справа от середины\n",
        "else:\n",
        "  print(word[len(word)//2])"
      ]
    },
    {
      "cell_type": "code",
      "source": [
        "import re\n",
        "\n",
        "word = input(\"Введите слово: \")\n",
        "\n",
        "match = re.match(r'^(\\w*)(.{1,2})(\\w*)$', word)\n",
        "if match:\n",
        "  left = match.group(1)\n",
        "  right = match.group(2)\n",
        "  if len(word) % 2 == 0:\n",
        "    print(left[-1] + right[0])\n",
        "  else:\n",
        "    print(word[len(word)//2])\n",
        "\n",
        "# не понятно как разделить на 3 обьекта и выводить среднюю букву путем seredina = match.group(n)\n",
        "# пробовал match = re.match(r'^(\\w*)(\\w)(\\w*)$', word) выделить его, но не судьба\n",
        "# какой шаблон использовать..."
      ],
      "metadata": {
        "id": "Tk6YX9hkLslH",
        "colab": {
          "base_uri": "https://localhost:8080/"
        },
        "outputId": "4ab51b49-a459-44df-ed3c-687d311fd41d"
      },
      "execution_count": null,
      "outputs": [
        {
          "output_type": "stream",
          "name": "stdout",
          "text": [
            "Введите слово: корова\n",
            "ва\n"
          ]
        }
      ]
    },
    {
      "cell_type": "markdown",
      "source": [
        "Задание 2:\n",
        ">Напишите программу, которая последовательно запрашивает у пользователя числа (по одному за раз) и после первого нуля выводит сумму всех ранее введенных чисел."
      ],
      "metadata": {
        "id": "hIE1iFxHVy2H"
      }
    },
    {
      "cell_type": "code",
      "source": [
        "sum_ = 0\n",
        "while True:\n",
        "  number = int(input(\"Введите число: \"))\n",
        "  if number == 0:\n",
        "    break\n",
        "  sum_ += number\n",
        "print(\"Cумма введенных чисел: \", sum_)"
      ],
      "metadata": {
        "colab": {
          "base_uri": "https://localhost:8080/"
        },
        "id": "OuWx15LCV3BC",
        "outputId": "1cd7c160-9ba6-4290-991d-bde5c57a0b83"
      },
      "execution_count": null,
      "outputs": [
        {
          "output_type": "stream",
          "name": "stdout",
          "text": [
            "Введите число: 4\n",
            "Введите число: 5\n",
            "Введите число: 6\n",
            "Введите число: 3\n",
            "Введите число: 0\n",
            "Cумма введенных чисел:  18\n"
          ]
        }
      ]
    },
    {
      "cell_type": "markdown",
      "source": [
        "Задание 3:\n",
        ">Мы делаем MVP dating-сервиса, и у нас есть список парней и девушек.\n",
        "Выдвигаем гипотезу: лучшие рекомендации мы получим, если просто отсортируем имена по алфавиту и познакомим людей с одинаковыми индексами после сортировки! Но мы не будем никого знакомить, если кто-то может остаться без пары."
      ],
      "metadata": {
        "id": "nqlHB0YjX1im"
      }
    },
    {
      "cell_type": "code",
      "source": [
        "# Первое что пришло в голову\n",
        "\n",
        "boys = ['Peter', 'Alex', 'John', 'Arthur', 'Richard']\n",
        "girls = ['Kate', 'Liza', 'Kira', 'Emma', 'Trisha']\n",
        "# girls = ['Kate', 'Liza', 'Kira', 'Emma', 'Trisha', 'Оля']\n",
        "\n",
        "if len(boys) != len(girls):\n",
        "  print(\"Кто то остался без пары\")\n",
        "else:\n",
        "  boys_sort = sorted(boys)\n",
        "  girls_sort = sorted(girls)\n",
        "  print(\"Пары: \")\n",
        "  for i in range(len(boys)):\n",
        "    print(boys_sort[i],\"и\", girls_sort[i])\n",
        "\n"
      ],
      "metadata": {
        "colab": {
          "base_uri": "https://localhost:8080/"
        },
        "id": "BCMKICO9X40V",
        "outputId": "81d4a49e-3b8a-4f80-cbe9-41e9f1958524"
      },
      "execution_count": null,
      "outputs": [
        {
          "output_type": "stream",
          "name": "stdout",
          "text": [
            "Пары: \n",
            "Alex и Emma\n",
            "Arthur и Kate\n",
            "John и Kira\n",
            "Peter и Liza\n",
            "Richard и Trisha\n"
          ]
        }
      ]
    },
    {
      "cell_type": "markdown",
      "source": [
        "Задание 3 (с возможностью ввода своих значений):"
      ],
      "metadata": {
        "id": "p_ndyoryzYqh"
      }
    },
    {
      "cell_type": "code",
      "source": [
        "# единственное что не понятно, как бы сделать так, чтобы список составлялся постепенно в несколько заходов. А так все вводится в одну строку через пробел.\n",
        " girls = [item for item in input(\"Введите девочек: \").split()]\n",
        " boys = [item for item in input(\"Введите мальчиков: \").split()]\n",
        "\n",
        "# ввод значений при помощи итераторов:\n",
        "# print('Введите мужские имена:')\n",
        "# boys = [x for x in iter(input, 'q')]\n",
        "# print('Введите женские имена:')\n",
        "# girls = [x for x in iter(input, 'q')]\n",
        "\n",
        "if len(boys) != len(girls):\n",
        "  print(\"Кто то остался без пары\")\n",
        "else:\n",
        "  boys.sort()\n",
        "  girls.sort()\n",
        "  print(\"Пары: \")\n",
        "  for i in range(len(boys)):\n",
        "    print(boys[i],\"и\", girls[i])"
      ],
      "metadata": {
        "id": "V772zWTLp8kP"
      },
      "execution_count": null,
      "outputs": []
    },
    {
      "cell_type": "code",
      "source": [
        "# В общем я заморочился и сделал себе хард задание =D\n",
        "# Было интересно сделать как полноценный ввод.\n",
        "# единственное он записывает так же и пустые значения в список т.е. надо по идее проверку или что то похожее пилить\n",
        "girls = []\n",
        "boys = []\n",
        "active = True\n",
        "active_2 = True\n",
        "\n",
        "print(\"Если ввели все имена для перехода введите пустое поле\")\n",
        "while active:\n",
        "  g = input(\"Введите имя девочки: \")\n",
        "  girls.append(g)\n",
        "  if (g == ''):\n",
        "    active = False\n",
        "while active_2:\n",
        "  b = input(\"Введите имя мальчика: \")\n",
        "  boys.append(b)\n",
        "  if (b == ''):\n",
        "    active_2 = False\n",
        "if len(boys) != len(girls):\n",
        "  print(\"Кто то остался без пары\")\n",
        "else:\n",
        "  boys.sort()\n",
        "  girls.sort()\n",
        "  print(\"Пары: \")\n",
        "  for i in range(len(boys)):\n",
        "    print(boys[i],\"и\", girls[i])    # where boys[i] and girls[i] is not == '' ну или типо того =)\n",
        "\n",
        "\n",
        "#=======================================\n",
        "# Функция zip(), помогает составить пары:\n",
        "# if len(boys)==len(girls):\n",
        "    # print(\"Идеальные пары:\")\n",
        "    # for b, g in zip(sorted(boys), sorted(girls)):\n",
        "        # print(f'{b} и {g}')\n",
        "# else:\n",
        "    # print('Кто-то может остаться без пары!')"
      ],
      "metadata": {
        "id": "9jXuA9Dn0UGT"
      },
      "execution_count": null,
      "outputs": []
    },
    {
      "cell_type": "markdown",
      "source": [
        "Задание 4:\n",
        ">У нас есть список, содержащий информацию о среднедневной температуре в Фаренгейтах за произвольный период по странам (структура данных в примере). Необходимо написать код, который рассчитает среднюю температуру за период в Цельсиях(!) для каждой страны."
      ],
      "metadata": {
        "id": "YpPxsme-akIE"
      }
    },
    {
      "cell_type": "code",
      "source": [
        "countries_temperature = [\n",
        "    ['Таиланд', [75.2, 77, 78.8, 73.4, 68, 75.2, 77]],\n",
        "    ['Германия', [57.2, 55.4, 59, 59, 53.6]],\n",
        "    ['Россия', [35.6, 37.4, 39.2, 41, 42.8, 39.2, 35.6]],\n",
        "    ['Польша', [50, 50, 53.6, 57.2, 55.4, 55.4]]\n",
        "]\n",
        "\n",
        "for i in countries_temperature:\n",
        "  avg_temperature = sum(i[1]) / len(i[1])\n",
        "  avg_temp_cel = round((avg_temperature - 32)*(5/9), 1)\n",
        "  print(f\"Средняя температура в {i[0]} - {avg_temp_cel}C°\")\n",
        "\n",
        "\n",
        "#for i in countries_temperature:\n",
        "#  print(i[0],'-', round((sum(i[1])/len(i[1])-32)/1.8, 1), 'C°')"
      ],
      "metadata": {
        "id": "NB4Yuozzan1W",
        "colab": {
          "base_uri": "https://localhost:8080/"
        },
        "outputId": "b61ee758-905f-4efd-80ac-6b389c682632"
      },
      "execution_count": null,
      "outputs": [
        {
          "output_type": "stream",
          "name": "stdout",
          "text": [
            "Средняя температура в Таиланд - 23.9C°\n",
            "Средняя температура в Германия - 13.8C°\n",
            "Средняя температура в Россия - 3.7C°\n",
            "Средняя температура в Польша - 12.0C°\n"
          ]
        }
      ]
    },
    {
      "cell_type": "markdown",
      "source": [
        "Задание 5:\n",
        ">Имеется список с транспортными номерами. Необходимо написать код, который проверит каждый номер на валидность (1 буква, 3 цифры, 2 буквы, 2-3 цифры). Обратите внимание, что не все буквы кириллического алфавита используются в транспортных номерах.\n",
        "\n",
        ">Если номер валиден, то вывести его в нужном формавте (пример ниже), а если не валиден — вывести текст. При решении помогут регулярные выражения, с которыми будет знакомство на практике."
      ],
      "metadata": {
        "id": "XSsQnlB15Mcn"
      }
    },
    {
      "cell_type": "code",
      "source": [
        "# numbers = ['А222ВС96', 'АБ22ВВ193', 'к323вс142']\n",
        "\n",
        "import re\n",
        "\n",
        "numbers = []\n",
        "active = True\n",
        "\n",
        "while active:\n",
        "  num = input(\"Введите номер машины: \")\n",
        "  numbers.append(num)\n",
        "  if (num == ''):\n",
        "    active = False\n",
        "for number in numbers:\n",
        "  pattern = r'^[А-Яа-я]\\d{3}[А-Яа-я]{2}\\d{2,3}$'      #[АВЕКМНОРСТУХавекмнорстух] - это шаблон под условие задачи. Захотелось иначе, допустим у нас весь алфавит =). А нижний регистр добавил т.к. не все записывают данные в нижнем регистре.\n",
        "  match = re.search(pattern, number)                   # ищем первое вхождение значение по шаблону  в списке\n",
        "  if match:\n",
        "      if len(number) == 9:\n",
        "        region = number[6:9]\n",
        "        print(f\"Номер {match.group(0)} валиден. Регион: {region}\")   # возвращаем значение из поиска по шаблону\n",
        "      else:\n",
        "        region = number[6:8]\n",
        "        print(f\"Номер {match.group(0)} валиден. Регион: {region}\")\n",
        "  else:\n",
        "    print(f\"Номер {number} не валиден\")\n",
        "\n",
        "# Та же проблема что и выше в 4-й задаче т.к. я ввожу пустое значение, как его убрать что то не знаю(точнее ленюсь, да и задача состоит не в этом).\n",
        "# Но идея с включением и выключением цикла по достижению условия это круто) Интересно возможно ли включать цикл который уже пройден, как бы возвращаться на начало."
      ],
      "metadata": {
        "id": "gizHtI1K5QnH"
      },
      "execution_count": null,
      "outputs": []
    },
    {
      "cell_type": "markdown",
      "source": [
        "Работа 6:\n",
        ">Дан поток логов по количеству просмотренных страниц для каждого пользователя (пользователь,дата;просмотры). Вам необходимо написать алгоритм, который считает среднее значение просмотров на пользователя. Т. е. надо посчитать отношение суммы всех просмотров к количеству уникальных пользователей. И тут регулярные выражения облегчат немного реализацию."
      ],
      "metadata": {
        "id": "AZjqSDPoFjuF"
      }
    },
    {
      "cell_type": "code",
      "source": [
        "import re\n",
        "\n",
        "streams = [\n",
        "    'user4,2021-01-01;3',\n",
        "    'user3,2022-01-07;4',\n",
        "    'user2,2022-03-29;1',\n",
        "    'user1,2020-04-04;13',\n",
        "    'user2,2022-01-05;7',\n",
        "    'user1,2021-06-14;4',\n",
        "    'user3,2022-07-02;10',\n",
        "    'user4,2021-03-21;19',\n",
        "    'user4,2022-03-22;4',\n",
        "    'user4,2022-04-22;8',\n",
        "    'user4,2021-05-03;9',\n",
        "    'user4,2022-05-11;11'\n",
        "]\n",
        "\n",
        "# users = set()\n",
        "# views = 0\n",
        "\n",
        "# for stream in streams:\n",
        "#   match = re.match(r'^(\\w+),\\d{4}-\\d{2}-\\d{2};(\\d+)$', stream)\n",
        "#   if match:\n",
        "#     user = match.group(1)\n",
        "#     users.add(user)\n",
        "#     views += int(match.group(2))\n",
        "\n",
        "# average_views = views / len(users)\n",
        "# print(f\"Среднее кол-во просмотров на пользователя: {average_views}\")\n",
        "\n",
        "\n",
        "\n",
        "users = {*[x.split(',')[0] for x in streams]}\n",
        "print(users)\n",
        "views = [int(x.split(';')[-1]) for x in streams]\n",
        "print(views)\n",
        "print(round(sum(views) / len(users), 2))\n",
        "\n",
        "\n"
      ],
      "metadata": {
        "colab": {
          "base_uri": "https://localhost:8080/"
        },
        "id": "stuWYcxPFl9u",
        "outputId": "31131f08-16f8-4e16-ae51-bd3b0f219aef"
      },
      "execution_count": null,
      "outputs": [
        {
          "output_type": "stream",
          "name": "stdout",
          "text": [
            "{'user1', 'user3', 'user4', 'user2'}\n",
            "[3, 4, 1, 13, 7, 4, 10, 19, 4, 8, 9, 11]\n",
            "23.25\n"
          ]
        }
      ]
    },
    {
      "cell_type": "markdown",
      "source": [
        "«Типы данных и циклы. Часть 2»"
      ],
      "metadata": {
        "id": "3CxC59o2k-AM"
      }
    },
    {
      "cell_type": "markdown",
      "source": [
        "Задание 1:\n",
        "\n",
        ">Дана переменная, в которой хранится словарь, содержащий гео-метки для каждого пользователя (пример структуры данных приведен ниже). Вам необходимо написать программу, которая выведет на экран множество уникальных гео-меток всех пользователей."
      ],
      "metadata": {
        "id": "BHUDioee3AJm"
      }
    },
    {
      "cell_type": "code",
      "source": [
        "ids = {'user1': [213, 213, 213, 15, 213],\n",
        "       'user2': [54, 54, 119, 119, 119],\n",
        "       'user3': [213, 98, 98, 35]}\n",
        "\n",
        "uniq_geo = set() # перевод в множества для уникальных значений\n",
        "\n",
        "for geo_list in ids.values():\n",
        "   uniq_geo.update(geo_list)\n",
        "print(uniq_geo)"
      ],
      "metadata": {
        "colab": {
          "base_uri": "https://localhost:8080/"
        },
        "id": "flEKfvWv3FuO",
        "outputId": "131b9b02-f2a1-46b7-ee20-21b1c3433dc6"
      },
      "execution_count": null,
      "outputs": [
        {
          "output_type": "stream",
          "name": "stdout",
          "text": [
            "{98, 35, 15, 213, 54, 119}\n"
          ]
        }
      ]
    },
    {
      "cell_type": "code",
      "source": [
        "# пытался сделать в одну строку. Уникальные значения относительно ключа остаются, но не всего словаря\n",
        "\n",
        "\n",
        "ids = {'user1': [213, 213, 213, 15, 213],\n",
        "       'user2': [54, 54, 119, 119, 119],\n",
        "       'user3': [213, 98, 98, 35]}\n",
        "\n",
        "uniq_geo = set()\n",
        "\n",
        "#[geo_set.union(element) for element in ids.values()]\n",
        "for geo_list in ids.values():\n",
        "  uniq_geo = uniq_geo.union(geo_list)\n",
        "print(uniq_geo)\n",
        "\n",
        "\n"
      ],
      "metadata": {
        "colab": {
          "base_uri": "https://localhost:8080/"
        },
        "id": "UymoQO7x91CW",
        "outputId": "62c3491b-f792-436e-dcaf-6e5f1319ff9e"
      },
      "execution_count": null,
      "outputs": [
        {
          "output_type": "stream",
          "name": "stdout",
          "text": [
            "{98, 35, 15, 213, 54, 119}\n"
          ]
        }
      ]
    },
    {
      "cell_type": "markdown",
      "source": [
        "Задание 2:\n",
        "\n",
        ">Дана переменная, в которой хранится список поисковых запросов пользователя (пример структуры данных приведен ниже, но запросы потенциально могут быть любые). Вам необходимо написать программу, которая выведет на экран распределение количества слов в запросах в требуемом виде."
      ],
      "metadata": {
        "id": "2nffiR-A5K2n"
      }
    },
    {
      "cell_type": "code",
      "source": [
        "queries = [\n",
        "    'смотреть сериалы онлайн',\n",
        "    'новости спорта',\n",
        "    'афиша кино',\n",
        "    'курс доллара',\n",
        "    'сериалы этим летом',\n",
        "    'курс по питону',\n",
        "    'сериалы про спорт',\n",
        "]\n",
        "\n",
        "\n",
        "word_count = {}\n",
        "total_queries = len(queries)\n",
        "\n",
        "for query in queries:\n",
        "  words = query.split()     # разбиваем запрос на список из слов\n",
        "  count = len(words)        # подсчитываем сколько слов в запросе\n",
        "  if count in word_count:   # словарь счетчик где ключ это кол-во слов в запросе = count, если ключ есть в словаре, то +1. Иначе присваивается 1.\n",
        "    word_count[count] += 1\n",
        "  else:\n",
        "    word_count[count] = 1\n",
        "\n",
        "for count, num_queries in word_count.items():      # идем по словарю счетчику (count:num_queies)\n",
        "  percent = (num_queries / total_queries)*100\n",
        "  print(f\"Поисковых запросов, содержащих {count} слов(а): {percent:.2f}%\")"
      ],
      "metadata": {
        "colab": {
          "base_uri": "https://localhost:8080/"
        },
        "id": "y3Sb3oAF5Oi4",
        "outputId": "0c3dbf9c-90c3-4e60-abd8-9d4932d2dbc1"
      },
      "execution_count": null,
      "outputs": [
        {
          "output_type": "stream",
          "name": "stdout",
          "text": [
            "Поисковых запросов, содержащих 3 слов(а): 57.14%\n",
            "Поисковых запросов, содержащих 2 слов(а): 42.86%\n"
          ]
        }
      ]
    },
    {
      "cell_type": "code",
      "source": [
        "queries = [\n",
        "    'смотреть сериалы онлайн',\n",
        "    'новости спорта',\n",
        "    'афиша кино',\n",
        "    'курс доллара',\n",
        "    'сериалы этим летом',\n",
        "    'курс по питону',\n",
        "    'сериалы про спорт',\n",
        "]\n",
        "\n",
        "len_list = []\n",
        "\n",
        "[len_list.append(len(word.split())) for word in queries]  # Список кол-ва слов из запросов\n",
        "# for item in queries:\n",
        "#    len_list.append(len(item.split()))      упрощенная запись которая идет выше\n",
        "i = 0\n",
        "\n",
        "while i <= max(len_list):      # max(len_list) - находим максимальное значение в списке кол-ва слов в запросе, цикл перебирает сначала предложения с одним словом, потом два и т.д\n",
        "  if len_list.count(i) > 0:    # проверяет условие, если кол-во слов в списке > 0, то выведи результат\n",
        "    print('Поисковых запросов, содержащих', i ,'слов(а/о):', round(len_list.count(i)*100/len(len_list),2))\n",
        "  i += 1"
      ],
      "metadata": {
        "colab": {
          "base_uri": "https://localhost:8080/"
        },
        "id": "_Vkz7B5NSEY9",
        "outputId": "13d9444a-6c95-48ed-e369-50b16681cc47"
      },
      "execution_count": null,
      "outputs": [
        {
          "output_type": "stream",
          "name": "stdout",
          "text": [
            "Поисковых запросов, содержащих 2 слов(а/о): 42.86\n",
            "Поисковых запросов, содержащих 3 слов(а/о): 57.14\n"
          ]
        }
      ]
    },
    {
      "cell_type": "markdown",
      "source": [
        "Задание 3:\n",
        ">Дана переменная, в которой хранится информация о затратах и доходе рекламных кампаний по различным источникам. Необходимо дополнить исходную структуру показателем ROI, который рассчитаем по формуле: ((revenue / cost) - 1) * 100"
      ],
      "metadata": {
        "id": "XiPTF6ByKTtq"
      }
    },
    {
      "cell_type": "code",
      "source": [
        "# Самый простой способ\n",
        "results = {\n",
        "    'vk': {'revenue': 103, 'cost': 98},\n",
        "    'yandex': {'revenue': 179, 'cost': 153},\n",
        "    'facebook': {'revenue': 103, 'cost': 110},\n",
        "    'adwords': {'revenue': 35, 'cost': 34},\n",
        "    'twitter': {'revenue': 11, 'cost': 24},\n",
        "}\n",
        "\n",
        "for source in results:\n",
        "  ROI = ((revenue / cost) - 1)* 100\n",
        "  results[source]['ROI'] = round(ROI, 2)\n",
        "display(results)"
      ],
      "metadata": {
        "colab": {
          "base_uri": "https://localhost:8080/",
          "height": 104
        },
        "id": "ScDFI5czKXJ4",
        "outputId": "1ccf0ff0-9f6b-4632-c1fa-f639d05e7722"
      },
      "execution_count": null,
      "outputs": [
        {
          "output_type": "display_data",
          "data": {
            "text/plain": [
              "{'vk': {'revenue': 103, 'cost': 98, 'ROI': -54.17},\n",
              " 'yandex': {'revenue': 179, 'cost': 153, 'ROI': -54.17},\n",
              " 'facebook': {'revenue': 103, 'cost': 110, 'ROI': -54.17},\n",
              " 'adwords': {'revenue': 35, 'cost': 34, 'ROI': -54.17},\n",
              " 'twitter': {'revenue': 11, 'cost': 24, 'ROI': -54.17}}"
            ]
          },
          "metadata": {}
        }
      ]
    },
    {
      "cell_type": "code",
      "source": [
        "# А тут меня понесло:\n",
        "results = {\n",
        "    'vk': {'revenue': 103, 'cost': 98},\n",
        "    'yandex': {'revenue': 179, 'cost': 153},\n",
        "    'facebook': {'revenue': 103, 'cost': 110},\n",
        "    'adwords': {'revenue': 35, 'cost': 34},\n",
        "    'twitter': {'revenue': 11, 'cost': 24},\n",
        "}\n",
        "\n",
        "for row, values in results.items():\n",
        "  results[row]['ROI'] = round((((values['revenue'] / values['cost']) - 1)* 100), 2)\n",
        "display(results) # строку выводило значений словаря, по этому нашел команду display. А ниже уже понял что это и не надо.\n"
      ],
      "metadata": {
        "colab": {
          "base_uri": "https://localhost:8080/",
          "height": 104
        },
        "id": "jjzyUTGDDdUw",
        "outputId": "c2d28c8a-5f79-48b4-cccb-0e7b9366f955"
      },
      "execution_count": null,
      "outputs": [
        {
          "output_type": "display_data",
          "data": {
            "text/plain": [
              "{'vk': {'revenue': 103, 'cost': 98, 'ROI': 5.1},\n",
              " 'yandex': {'revenue': 179, 'cost': 153, 'ROI': 16.99},\n",
              " 'facebook': {'revenue': 103, 'cost': 110, 'ROI': -6.36},\n",
              " 'adwords': {'revenue': 35, 'cost': 34, 'ROI': 2.94},\n",
              " 'twitter': {'revenue': 11, 'cost': 24, 'ROI': -54.17}}"
            ]
          },
          "metadata": {}
        }
      ]
    },
    {
      "cell_type": "code",
      "source": [
        "# Этот вариант подразумевает запись в новую таблицу.\n",
        "# И тут у меня вопрос по заданию. Здесь я вышел из ситуации создав в цикле словарь со сзначениями ключей.\n",
        "# А допустим мы создали словарь(сущность) вне цикла. Как в словарь передать названия ключей results_2.keys() сама запись.\n",
        "results = {\n",
        "    'vk': {'revenue': 103, 'cost': 98},\n",
        "    'yandex': {'revenue': 179, 'cost': 153},\n",
        "    'facebook': {'revenue': 103, 'cost': 110},\n",
        "    'adwords': {'revenue': 35, 'cost': 34},\n",
        "    'twitter': {'revenue': 11, 'cost': 24},\n",
        "}\n",
        "\n",
        "for row, values in results.items():\n",
        "  results_2[row] = {}\n",
        "  results_2[row]['revenue'] = values['revenue']\n",
        "  results_2[row]['cost'] = values['cost']\n",
        "  results_2[row]['ROI'] = round((((values['revenue'] / values['cost']) - 1)* 100), 2)\n",
        "results_2\n"
      ],
      "metadata": {
        "colab": {
          "base_uri": "https://localhost:8080/"
        },
        "id": "ZF4IQYLgoYg_",
        "outputId": "ab020512-84f5-4c65-e737-8d7aba1bc255"
      },
      "execution_count": null,
      "outputs": [
        {
          "output_type": "execute_result",
          "data": {
            "text/plain": [
              "{'vk': {'revenue': 103, 'cost': 98, 'ROI': 5.1},\n",
              " 'yandex': {'revenue': 179, 'cost': 153, 'ROI': 16.99},\n",
              " 'facebook': {'revenue': 103, 'cost': 110, 'ROI': -6.36},\n",
              " 'adwords': {'revenue': 35, 'cost': 34, 'ROI': 2.94},\n",
              " 'twitter': {'revenue': 11, 'cost': 24, 'ROI': -54.17}}"
            ]
          },
          "metadata": {},
          "execution_count": 33
        }
      ]
    },
    {
      "cell_type": "code",
      "source": [
        "# Ну а тут вакханалия в цикле идем по ключу и вставляем значения. Но это не решает проблему выше). Да здесь я могу создать новый словарь вне цикла и результаты записать цикла в него, но я хочу допустим только ключи передать в словарь.\n",
        "# В общем выгода здесь если все значения ключей меняются наверное, но это не точно.\n",
        "results = {\n",
        "'vk': {'revenue': 103, 'cost': 98},\n",
        "'yandex': {'revenue': 179, 'cost': 153},\n",
        "'facebook': {'revenue': 103, 'cost': 110},\n",
        "'adwords': {'revenue': 35, 'cost': 34},\n",
        "'twitter': {'revenue': 11, 'cost': 24},\n",
        "}\n",
        "\n",
        "for row,values in results.items():\n",
        "    results.update({row:{'ROI':round((values['revenue'] / values['cost'] - 1) * 100, 2), 'cost':values['cost'], 'revenue':values['revenue']}})\n",
        "results"
      ],
      "metadata": {
        "colab": {
          "base_uri": "https://localhost:8080/"
        },
        "id": "YbfwkOabeHv0",
        "outputId": "c8c05c29-271a-47ba-caab-28abbe510fd9"
      },
      "execution_count": null,
      "outputs": [
        {
          "output_type": "execute_result",
          "data": {
            "text/plain": [
              "{'vk': {'ROI': 5.1, 'cost': 98, 'revenue': 103},\n",
              " 'yandex': {'ROI': 16.99, 'cost': 153, 'revenue': 179},\n",
              " 'facebook': {'ROI': -6.36, 'cost': 110, 'revenue': 103},\n",
              " 'adwords': {'ROI': 2.94, 'cost': 34, 'revenue': 35},\n",
              " 'twitter': {'ROI': -54.17, 'cost': 24, 'revenue': 11}}"
            ]
          },
          "metadata": {},
          "execution_count": 32
        }
      ]
    },
    {
      "cell_type": "markdown",
      "source": [
        "Задание 4:\n",
        "\n",
        ">Дана переменная, в которой хранится статистика рекламных каналов по объемам продаж (пример структуры данных приведен ниже). Напишите программу, которая возвращает название канала с максимальным объемом продаж."
      ],
      "metadata": {
        "id": "9PI02g6FK00s"
      }
    },
    {
      "cell_type": "code",
      "source": [
        "# простой способ, вычитал о функциях оператора max() ну и пример такой был.\n",
        "stats = {'facebook': 55, 'yandex': 115, 'vk': 120, 'google': 99, 'email': 42, 'ok': 98}\n",
        "\n",
        "max_sales_chanell = max(stats, key = stats.get)\n",
        "print(stats)\n",
        "print(f\"Максимальный обьем продаж на рекламном канале: {max_sales_chanell}.\")"
      ],
      "metadata": {
        "colab": {
          "base_uri": "https://localhost:8080/"
        },
        "id": "0gJ5c4JPK3n4",
        "outputId": "18c33569-1551-4bc2-e2de-137815418c37"
      },
      "execution_count": null,
      "outputs": [
        {
          "output_type": "stream",
          "name": "stdout",
          "text": [
            "{'facebook': 55, 'yandex': 115, 'vk': 120, 'google': 99, 'email': 42, 'ok': 98}\n",
            "Максимальный обьем продаж на рекламном канале: vk.\n"
          ]
        }
      ]
    },
    {
      "cell_type": "code",
      "source": [
        "# Вариант посложнее\n",
        "stats = {'facebook': 55, 'yandex': 115, 'vk': 120, 'google': 99, 'email': 42, 'ok': 98}\n",
        "\n",
        "for channel, amount in stats.items():                         # Циклом идем по словарю = перебираем в общем то ключ:значение (chanell:amount)\n",
        "     if amount == max(list(stats.values())):                  # если стоимость равна максимальному значению из списка всех значений словаря, выдаем ответ.\n",
        "         print('Максимальный объем продаж на рекламном канале:',channel)"
      ],
      "metadata": {
        "colab": {
          "base_uri": "https://localhost:8080/"
        },
        "id": "dVBmONUZqRSt",
        "outputId": "9c39bca4-f9a0-45d2-8194-f6cf38e57e72"
      },
      "execution_count": null,
      "outputs": [
        {
          "output_type": "stream",
          "name": "stdout",
          "text": [
            "Максимальный объем продаж на рекламном канале: vk\n"
          ]
        }
      ]
    },
    {
      "cell_type": "markdown",
      "source": [
        "Задание 5:\n",
        "\n",
        ">Дан список произвольной длины. Необходимо написать код, который на основе исходного списка составит словарь такого уровня вложенности, какова длина исхондого списка."
      ],
      "metadata": {
        "id": "PTYxbhE6NYpm"
      }
    },
    {
      "cell_type": "code",
      "source": [
        "my_list = ['2018-01-01', 'yandex', 'cpc', 100]\n",
        "\n",
        "my_list_a = my_list[-1]              # берем последнее значение списка чтобы потом вложить его в словарь в качестве значения.\n",
        "for key in reversed(my_list[:-1]):   # берем из списка все что слева от -1 позиции списка и разворачиваем его.\n",
        "  my_list_a = {key: my_list_a}       # ну а тут как раз реализуется вложенность {ключ цикла : прошлый словарь}\n",
        "  print(my_list_a)\n",
        "print(my_list_a)\n",
        "\n"
      ],
      "metadata": {
        "colab": {
          "base_uri": "https://localhost:8080/"
        },
        "id": "pLTLv8Nf4ABS",
        "outputId": "9ab32c3f-ffa1-4ba6-ff07-f1cab7449399"
      },
      "execution_count": null,
      "outputs": [
        {
          "output_type": "stream",
          "name": "stdout",
          "text": [
            "{'cpc': 100}\n",
            "{'yandex': {'cpc': 100}}\n",
            "{'2018-01-01': {'yandex': {'cpc': 100}}}\n",
            "{'2018-01-01': {'yandex': {'cpc': 100}}}\n"
          ]
        }
      ]
    },
    {
      "cell_type": "markdown",
      "source": [
        "Задание 6:\n",
        ">Дана книга рецептов с информацией о том, сколько ингредиентов нужно для приготовления блюда в расчете на одну порцию (пример данных представлен ниже).\n",
        "Напишите программу, которая будет запрашивать у пользователя количество порций для приготовления этих блюд и отображать информацию о суммарном количестве требуемых ингредиентов в указанном виде.\\\n",
        "Внимание! Одинаковые ингредиенты с разными размерностями нужно считать раздельно!"
      ],
      "metadata": {
        "id": "7v6mdjZDOxDc"
      }
    },
    {
      "cell_type": "code",
      "source": [
        "cook_book = {\n",
        "'салат': [\n",
        "{'ingridient_name': 'сыр', 'quantity': 50, 'measure': 'гр'},\n",
        "{'ingridient_name': 'томаты', 'quantity': 2, 'measure': 'шт'},\n",
        "{'ingridient_name': 'огурцы', 'quantity': 20, 'measure': 'гр'},\n",
        "{'ingridient_name': 'маслины', 'quantity': 10, 'measure': 'гр'},\n",
        "{'ingridient_name': 'оливковое масло', 'quantity': 20, 'measure': 'мл'},\n",
        "{'ingridient_name': 'салат', 'quantity': 10, 'measure': 'гр'},\n",
        "{'ingridient_name': 'перец', 'quantity': 20, 'measure': 'гр'}\n",
        "],\n",
        "'пицца': [\n",
        "{'ingridient_name': 'сыр', 'quantity': 20, 'measure': 'гр'},\n",
        "{'ingridient_name': 'колбаса', 'quantity': 30, 'measure': 'гр'},\n",
        "{'ingridient_name': 'бекон', 'quantity': 30, 'measure': 'гр'},\n",
        "{'ingridient_name': 'оливки', 'quantity': 10, 'measure': 'гр'},\n",
        "{'ingridient_name': 'томаты', 'quantity': 20, 'measure': 'гр'},\n",
        "{'ingridient_name': 'тесто', 'quantity': 100, 'measure': 'гр'},\n",
        "],\n",
        "'лимонад': [\n",
        "{'ingridient_name': 'лимон', 'quantity': 1, 'measure': 'шт'},\n",
        "{'ingridient_name': 'вода', 'quantity': 200, 'measure': 'мл'},\n",
        "{'ingridient_name': 'сахар', 'quantity': 10, 'measure': 'гр'},\n",
        "{'ingridient_name': 'лайм', 'quantity': 20, 'measure': 'гр'},\n",
        "]\n",
        "}\n",
        "\n",
        "cook_dict={}\n",
        "\n",
        "person=int(input('Введите количество порций: \\n'))\n",
        "\n",
        "for item in cook_book.items():\n",
        "    for ingridient in item[1]:\n",
        "        ingridient_measure = ingridient['ingridient_name'].replace(' ','_') + ' ' + ingridient['measure']\n",
        "        quantity = ingridient['quantity']\n",
        "        if ingridient_measure in cook_dict:\n",
        "            cook_dict[ingridient_measure] += quantity * person\n",
        "        else:\n",
        "            cook_dict.setdefault(ingridient_measure, quantity * person)\n",
        "\n",
        "for ing, values in cook_dict.items():\n",
        "    name = ing.split()\n",
        "    print(name[0].capitalize().replace('_',' ') + ':', values, name[1])\n"
      ],
      "metadata": {
        "colab": {
          "base_uri": "https://localhost:8080/"
        },
        "id": "oYKBaPZSrWIJ",
        "outputId": "29c19414-f1b3-48c6-fbeb-13acf7d963e7"
      },
      "execution_count": null,
      "outputs": [
        {
          "output_type": "stream",
          "name": "stdout",
          "text": [
            "Введите количество порций: \n",
            "2\n",
            "Сыр: 140 гр\n",
            "Томаты: 4 шт\n",
            "Огурцы: 40 гр\n",
            "Маслины: 20 гр\n",
            "Оливковое масло: 40 мл\n",
            "Салат: 20 гр\n",
            "Перец: 40 гр\n",
            "Колбаса: 60 гр\n",
            "Бекон: 60 гр\n",
            "Оливки: 20 гр\n",
            "Томаты: 40 гр\n",
            "Тесто: 200 гр\n",
            "Лимон: 2 шт\n",
            "Вода: 400 мл\n",
            "Сахар: 20 гр\n",
            "Лайм: 40 гр\n"
          ]
        }
      ]
    },
    {
      "cell_type": "markdown",
      "source": [
        "\"Функции\""
      ],
      "metadata": {
        "id": "kmtNm13NlDzm"
      }
    },
    {
      "cell_type": "markdown",
      "source": [
        "> Вам нужно помочь секретарю автоматизировать работу. Для этого нужно написать программу, которая будет на основе хранимых данных исполнять пользовательские команды.\\\n",
        "Общие требования к программе:\n",
        "\n",
        "* Пользователь по команде \"p\" может узнать владельца документа по его номеру.\\\n",
        "* Пользователь по команде \"s\" может по номеру документа узнать на какой полке он хранится.\\\n",
        "* Пользователь по команде \"l\" может увидеть полную информацию по всем документам.\\\n",
        "* Пользователь по команде \"ads\" может добавить новую полку.\\\n",
        "* Пользователь по команде \"ds\" может удалить существующую полку из данных (только если она пустая).\\\n",
        "* Пользователь по команде \"ad\" может добавить новый документ в данные.\\\n",
        "* Пользователь по команде \"d\" может удалить документ из данных.\\\n",
        "* Пользователь по команде \"m\" может переместить документ с полки на полку.\\\n",
        "\n",
        ">Код должен быть грамотно декомпозирован (каждая функция отвечает за свою конкретную задачу, дублирующийся функционал переиспользуется, а его код не повторяется);\\\n",
        "В коде отсутствуют глобальные переменные (за исключением documents и directories);\\\n",
        "Пользовательский ввод обрабатывается в цикле while до тех пор, пока пользователь явно не завершит программу (вводом команды \"q\").\n",
        "\n",
        "\n"
      ],
      "metadata": {
        "id": "szq1bfuFmGl6"
      }
    },
    {
      "cell_type": "code",
      "source": [
        "documents = [\n",
        "    {'type': 'passport', 'number': '2207 876234', 'name': 'Василий Гупкин'},\n",
        "    {'type': 'invoice', 'number': '11-2', 'name': 'Геннадий Покемонов'},\n",
        "    {'type': 'insurance', 'number': '10006', 'name': 'Аристарх Павлов'}\n",
        "]\n",
        "\n",
        "directories = {\n",
        "    '1': ['2207 876234', '11-2'],\n",
        "    '2': ['10006'],\n",
        "    '3': []\n",
        "}"
      ],
      "metadata": {
        "id": "Olcs3F_m_t_p"
      },
      "execution_count": null,
      "outputs": []
    },
    {
      "cell_type": "code",
      "source": [
        "def owner_name():\n",
        "  \"\"\"\n",
        "    Пользователь может узнать владельца документа по его номеру \"p\"\n",
        "  \"\"\"\n",
        "  number_in = input('Введите номер документа: ')\n",
        "\n",
        "  for doc in documents:\n",
        "    if doc['number'] == number_in:\n",
        "      return(f\"Владелец документа: {doc['name']}\")\n",
        "  return \"Документ не найден в базе\""
      ],
      "metadata": {
        "id": "drVlvyskiBNA"
      },
      "execution_count": null,
      "outputs": []
    },
    {
      "cell_type": "code",
      "source": [
        "def doc_dir(number_in):\n",
        "  \"\"\"\n",
        "  Пользователь может по номеру документа узнать на какой полке он хранится \"s\"\n",
        "  \"\"\"\n",
        "  for shelf, docs in directories.items():\n",
        "    if number_in in docs:\n",
        "      return shelf\n",
        "  return None\n",
        "\n",
        "\n",
        "#shelf = [shelf for shelf, docs in directories.items() if number_in in docs]  тут возвращает список причем тип данных str пример ['2']"
      ],
      "metadata": {
        "id": "AZaduxqC5Zqp"
      },
      "execution_count": null,
      "outputs": []
    },
    {
      "cell_type": "code",
      "source": [
        "def doc_list():\n",
        "  \"\"\"\n",
        "  Пользователь по команде \"l\" может увидеть полную информацию по всем документам. \"l\"\n",
        "  \"\"\"\n",
        "  for doc in documents:\n",
        "      print(f\"№: {doc['number']}, тип: {doc['type']}, владелец: {doc['name']}, полка хранения: {doc_dir(doc['number'])}\")\n",
        "\n",
        "\n",
        "# Способы без обращения к функции doc_dir()\n",
        "#for doc in documents:\n",
        "#  for shelf, values in directories.items():\n",
        "#    if doc['number'] in values:\n",
        "#      print(f\"№: {doc['number']}, тип: {doc['type']}, владелец: {doc['name']}, полка хранения: {shelf}\")\n",
        "\n",
        "\n",
        "#for doc in documents:\n",
        "#      number = doc['number']\n",
        "#      owner = doc['name']\n",
        "#      doc_type = doc['type']\n",
        "#      shelf = doc_dir(number)\n",
        "#      print(f\"№: {number}, тип: {doc_type}, владелец: {owner}, полка хранения: {shelf}\")"
      ],
      "metadata": {
        "id": "BLmitDTL8MEv"
      },
      "execution_count": null,
      "outputs": []
    },
    {
      "cell_type": "code",
      "source": [
        "def shelf_add():\n",
        "  \"\"\"\n",
        "  Пользователь по команде \"ads\" может добавить новую полку\n",
        "  \"\"\"\n",
        "  number_shelf = input('Введите номер полки: ')\n",
        "\n",
        "  if number_shelf in directories:\n",
        "    return \"Такая полка уже существует\"\n",
        "  else:\n",
        "    directories[number_shelf] = []\n",
        "    return(f\"Полка добавлена. Текущий перечень полок: {','.join(sorted(directories.keys()))}\")"
      ],
      "metadata": {
        "id": "2o1c7AI3H-vM"
      },
      "execution_count": null,
      "outputs": []
    },
    {
      "cell_type": "code",
      "source": [
        "def shelf_del():\n",
        "  \"\"\"\n",
        "  Пользователь по команде \"ds\" может удалить существующую полку из данных (только если она пустая)\n",
        "  \"\"\"\n",
        "  number_shelf = input('Введите номер полки: ')\n",
        "\n",
        "  if number_shelf not in directories:\n",
        "    return \"Такой полки не существует\"\n",
        "  elif directories[number_shelf]:\n",
        "    return \"На полке есть документы, удалите их перед удалением полки\"\n",
        "  else:\n",
        "    del directories[number_shelf]\n",
        "    return(f\"Полка {number_shelf} удалена. Текущий перечень полок: {','.join(sorted(directories.keys()))}\")"
      ],
      "metadata": {
        "id": "15ZWTUYXMzeu"
      },
      "execution_count": null,
      "outputs": []
    },
    {
      "cell_type": "code",
      "source": [
        "# дублер функция. Это первый вариант. Ниже решение которое используется.\n",
        "def document_add():\n",
        "  \"\"\"\n",
        "  Пользователь по команде \"ad\" может добавить новый документ в данные\n",
        "  \"\"\"\n",
        "  number = input('Введите номер документа: ')\n",
        "  doc_type = input('Введите тип документа: ')\n",
        "  owner = input('Введите владельца документа: ')\n",
        "  number_shelf = input('Введите номер полки для хранения: ')\n",
        "\n",
        "  if number_shelf not in directories:\n",
        "    return \"Такой полки не существует. Добавьте полку командой ads.\"\n",
        "  else:\n",
        "    documents.append({'type': doc_type, 'number': number, 'name': owner})\n",
        "    directories[number_shelf].append(number)\n",
        "    print(f\"Документ добавлен. Текущий список документов: \")\n",
        "    return {doc_list()}"
      ],
      "metadata": {
        "id": "Ob9mAk5zSvu3"
      },
      "execution_count": null,
      "outputs": []
    },
    {
      "cell_type": "code",
      "source": [
        "def add_doc():\n",
        "  \"\"\"\n",
        "  Пользователь по команде \"ad\" может добавить новый документ в данные\n",
        "  \"\"\"\n",
        "  number_shelf = input('Введите номер полки для хранения: ')\n",
        "  if number_shelf not in directories:\n",
        "    print (\"Такой полки не существует. Добавьте полку командой ads.\")\n",
        "  else:\n",
        "    docu = {}\n",
        "    for info in ('Тип документа', 'Номер документа', 'Ф.И.О.'):\n",
        "      docu[info] = input(f'{info}: ')\n",
        "    documents.append({'type': docu['Тип документа'], 'number': docu['Номер документа'], 'name': docu['Ф.И.О.']})\n",
        "    directories[number_shelf].append(docu['Номер документа'])\n",
        "    print(f\"Документ добавлен. Текущий список документов:\")\n",
        "    return {doc_list()}"
      ],
      "metadata": {
        "id": "_VcDTHx03edn"
      },
      "execution_count": null,
      "outputs": []
    },
    {
      "cell_type": "code",
      "source": [
        "def document_del():\n",
        "    \"\"\"\n",
        "    Пользователь по команде \"d\" может удалить документ из данных.\n",
        "    \"\"\"\n",
        "    number_in = input('Введите номер документа: ')\n",
        "\n",
        "    # Проверка наличия документа в переменных documents\n",
        "    for doc in documents:\n",
        "        if doc['number'] == number_in:\n",
        "            break\n",
        "    else:\n",
        "        print(f\"Документ с номером {number_in} не найден\")\n",
        "        return doc_list()\n",
        "\n",
        "    # Удаление документа из списка documents\n",
        "    documents[:] = [doc for doc in documents if doc.get('number') != number_in]\n",
        "\n",
        "    # Удаление номера документа из словаря directories\n",
        "    for shelf, docs in directories.items():\n",
        "        if number_in in docs:\n",
        "            docs.remove(number_in)\n",
        "            break\n",
        "    else:\n",
        "        print(f\"Документ с номером {number_in} не найден в полках\")\n",
        "        return doc_list()\n",
        "\n",
        "    print(f\"Запись под номером {number_in} удалена\")\n",
        "    return doc_list()"
      ],
      "metadata": {
        "id": "V_QcIH1NpzR9"
      },
      "execution_count": null,
      "outputs": []
    },
    {
      "cell_type": "code",
      "source": [
        "def move_doc():\n",
        "  \"\"\"\n",
        "  Пользователь по команде «m» может переместить документ с полки на полку.\n",
        "  \"\"\"\n",
        "  number_in = input('Введите номер документа: ')\n",
        "  new_shelf = input('Введите номер полки для перемещения документа: ')\n",
        "  current_shelf = doc_dir(number_in)\n",
        "  if current_shelf and new_shelf in directories:\n",
        "      directories[current_shelf].remove(number_in)\n",
        "      directories[new_shelf].append(number_in)\n",
        "      print('Документ успешно перемещен')\n",
        "\n",
        "\n"
      ],
      "metadata": {
        "id": "qLejyUEhnU1B"
      },
      "execution_count": null,
      "outputs": []
    },
    {
      "cell_type": "code",
      "source": [
        "# Второй вариант:\n",
        "def move_doc_2():\n",
        "    \"\"\"\n",
        "    Пользователь по команде «m» может переместить документ с полки на полку.\n",
        "    \"\"\"\n",
        "    number_in = input('Введите номер документа: ')\n",
        "    new_shelf = input('Введите номер полки для перемещения документа: ')\n",
        "    current_shelf = doc_dir(number_in)\n",
        "\n",
        "    if not current_shelf:\n",
        "        print(f\"Документ с номером {number_in} не найден\")\n",
        "        doc_list()\n",
        "        return\n",
        "\n",
        "    if new_shelf not in directories:\n",
        "        print(f\"Полка с номером {new_shelf} не существует\")\n",
        "        return\n",
        "\n",
        "    directories[current_shelf].remove(number_in)\n",
        "    directories[new_shelf].append(number_in)\n",
        "    print('Документ успешно перемещен')\n",
        "    doc_list()"
      ],
      "metadata": {
        "id": "MbbJOozpqD6l"
      },
      "execution_count": null,
      "outputs": []
    },
    {
      "cell_type": "code",
      "source": [
        "def main():\n",
        "  \"\"\"\n",
        "  Функция сборник\n",
        "  \"\"\"\n",
        "  while True:\n",
        "    command = input('Введите команду: ')\n",
        "    if command == 'q':\n",
        "      print('Выход')\n",
        "      break\n",
        "    elif command == 'p':\n",
        "      print(owner_name())\n",
        "    elif command == 's':\n",
        "      number_in = input('Введите номер документа: ') # тут не получилось вложить input, в связи с тем что эта функция используется в doc_list.\n",
        "      shelf_number = doc_dir(number_in)              # А doc_list в двух других. Хотя решение нашел этой проблемы в функции описан вариант.\n",
        "      if shelf_number:                               # В общем из двух зол выбрал такой вариант.\n",
        "        print(f'Документ хранится на полке: {shelf_number}')\n",
        "      else:\n",
        "        print(\"Такого документа нету в базе данных\")\n",
        "    elif command == 'l':\n",
        "      doc_list()\n",
        "    elif command == 'ads':\n",
        "      print(shelf_add())\n",
        "    elif command == 'ds':\n",
        "      print(shelf_del())\n",
        "    elif command == 'ad':\n",
        "      #document_add()\n",
        "      add_doc()\n",
        "    elif command == 'd':\n",
        "      print(document_del())\n",
        "    elif command == 'm':\n",
        "      move_doc()\n",
        "    else:\n",
        "      print(\"Такой команды нет\")"
      ],
      "metadata": {
        "id": "NVWasih8gMWX"
      },
      "execution_count": null,
      "outputs": []
    },
    {
      "cell_type": "code",
      "source": [
        "main()"
      ],
      "metadata": {
        "colab": {
          "base_uri": "https://localhost:8080/"
        },
        "id": "MfcAjWdCm9zB",
        "outputId": "f40653b5-cb57-4def-c013-f590560e27ef"
      },
      "execution_count": null,
      "outputs": [
        {
          "output_type": "stream",
          "name": "stdout",
          "text": [
            "Введите команду: m\n",
            "Введите номер документа: 11-2\n",
            "Введите номер полки для перемещения документа: 3\n",
            "Документ успешно перемещен\n",
            "Введите команду: l\n",
            "№: 2207 876234, тип: passport, владелец: Василий Гупкин, полка хранения: 1\n",
            "№: 11-2, тип: invoice, владелец: Геннадий Покемонов, полка хранения: 3\n",
            "№: 10006, тип: insurance, владелец: Аристарх Павлов, полка хранения: 2\n",
            "Введите команду: p\n",
            "Введите номер документа: 11-2\n",
            "Владелец документа: Геннадий Покемонов\n",
            "Введите команду: s\n",
            "Введите номер документа: 11-2\n",
            "Документ хранится на полке: 3\n",
            "Введите команду: ads\n",
            "Введите номер полки: 6\n",
            "Полка добавлена. Текущий перечень полок: 1,2,3,6\n",
            "Введите команду: ad\n",
            "Введите номер полки для хранения: 6\n",
            "Тип документа: gfcghhg\n",
            "Номер документа: sfsdfsdf\n",
            "Ф.И.О.: sdfsdfsd\n",
            "Документ добавлен. Текущий список документов:\n",
            "№: 2207 876234, тип: passport, владелец: Василий Гупкин, полка хранения: 1\n",
            "№: 11-2, тип: invoice, владелец: Геннадий Покемонов, полка хранения: 3\n",
            "№: 10006, тип: insurance, владелец: Аристарх Павлов, полка хранения: 2\n",
            "№: sfsdfsdf, тип: gfcghhg, владелец: sdfsdfsd, полка хранения: 6\n",
            "Введите команду: d\n",
            "Введите номер документа: sfsdfsdf\n",
            "Запись под номером sfsdfsdf удалена\n",
            "№: 2207 876234, тип: passport, владелец: Василий Гупкин, полка хранения: 1\n",
            "№: 11-2, тип: invoice, владелец: Геннадий Покемонов, полка хранения: 3\n",
            "№: 10006, тип: insurance, владелец: Аристарх Павлов, полка хранения: 2\n",
            "None\n",
            "Введите команду: q\n",
            "Выход\n"
          ]
        }
      ]
    },
    {
      "cell_type": "markdown",
      "source": [
        "«Работа с файловой системой и модули»"
      ],
      "metadata": {
        "id": "nQ9xYsFRpQzr"
      }
    },
    {
      "cell_type": "markdown",
      "source": [
        "* Переведите содержимое файла purchase_log.txt* в словарь purchases вида:\n",
        "{‘1840e0b9d4’: ‘Продукты’, …}\n",
        "\n",
        "* Для каждого user_id в файле visit_log.csv определите третий столбец с категорией покупки, если покупка была, сам файл visit_log.csv* изменять не надо. Запишите в файл funnel.csv визиты из файла visit_log.csv*, в которых были покупки с указанием категории.\\\n",
        ">Учтите условия на данные:\\\n",
        "содержимое purchase_log.txt* помещается в оперативную память компьютера;\\\n",
        "содержимое visit_log.csv* — нет; используйте только построчную обработку этого файла."
      ],
      "metadata": {
        "id": "L390q_saq8KT"
      }
    },
    {
      "cell_type": "code",
      "source": [
        "import json\n",
        "\n",
        "dictin = {}\n",
        "\n",
        "with open(r'путь\\purchase_log.txt', 'r', encoding='utf-8') as purchase:\n",
        "    for line in purchase:\n",
        "        dict_ = json.loads(line.strip())\n",
        "        dictin[dict_['user_id']] = dict_['category']\n",
        "#         print(dict_)\n",
        "\n",
        "\n",
        "with open(r'путь\\visit_log.csv', 'r', encoding='utf-8') as visit, \\\n",
        "     open(r'путь\\funnel.csv', 'w', encoding='utf-8') as funnel:\n",
        "    for line in visit:\n",
        "        user_id, source = line.strip().split(',')\n",
        "        if user_id in dictin:\n",
        "            category = dictin[user_id]\n",
        "            funnel.write(f'{user_id}, {source}, {category}\\n')\n",
        "\n",
        "# first_n_items = list(dictin.items())[:100]\n",
        "\n",
        "# for key, value in first_n_items:\n",
        "#     print(key, value)\n",
        "\n",
        "g = open(r'путь\\funnel.csv', 'r', encoding='utf-8')\n",
        "\n",
        "# g.readlines()\n",
        "\n",
        "for line in g:\n",
        "    print(line.strip())"
      ],
      "metadata": {
        "id": "TEDUoA36kJgB"
      },
      "execution_count": null,
      "outputs": []
    },
    {
      "cell_type": "code",
      "source": [
        "import datetime\n",
        "\n",
        "def check_date(date):\n",
        "    try:\n",
        "        datetime.datetime.strptime(date, '%Y-%m-%d')\n",
        "        return True\n",
        "    except ValueError:\n",
        "        return False\n",
        "\n",
        "def date_range(start_date, end_date):\n",
        "    if not check_date(start_date) or not check_date(end_date):\n",
        "        return []\n",
        "    start = datetime.datetime.strptime(start_date, '%Y-%m-%d')\n",
        "    end = datetime.datetime.strptime(end_date, '%Y-%m-%d')\n",
        "    if start > end:\n",
        "        return []\n",
        "    dates = []\n",
        "    current = start\n",
        "    while current <= end:\n",
        "        dates.append(current.strftime('%Y-%m-%d'))\n",
        "        current += datetime.timedelta(days=1)\n",
        "    return dates"
      ],
      "metadata": {
        "id": "QxaosYYgyYrj"
      },
      "execution_count": null,
      "outputs": []
    },
    {
      "cell_type": "markdown",
      "source": [
        "«Исключения и обработка ошибок»"
      ],
      "metadata": {
        "id": "32bRlmk4sDXQ"
      }
    },
    {
      "cell_type": "markdown",
      "source": [
        " Задание 1:\n",
        " >Печатные газеты использовали свой формат дат для каждого выпуска. Для каждой газеты из списка напишите формат указанной даты для перевода в объект datetime: \\\n",
        "* The Moscow Times — Wednesday, October 2, 2002 \\\n",
        "* The Guardian — Friday, 11.10.13 \\\n",
        "* Daily News — Thursday, 18 August 1977 \\"
      ],
      "metadata": {
        "id": "DFRO_dkXs4Fz"
      }
    },
    {
      "cell_type": "code",
      "execution_count": null,
      "metadata": {
        "id": "8r3QQ8oUs3RP"
      },
      "outputs": [],
      "source": [
        "The Moscow Times: '%A, %B %d, %Y'\n",
        "The Guardian: '%A, %d.%m.%y'\n",
        "Daily News: '%A, %d %B %Y'"
      ]
    },
    {
      "cell_type": "markdown",
      "source": [
        "Задание 2:\n",
        ">Дан поток дат в формате YYYY-MM-DD, в которых встречаются некорректные значения:\n",
        "stream = [‘2018-04-02’, ‘2018-02-29’, ‘2018-19-02’]\\\n",
        "Напишите функцию, которая проверяет эти даты на корректность. То есть для каждой даты возвращает True — дата корректна или False — некорректная."
      ],
      "metadata": {
        "id": "CVeXFoxvvPTM"
      }
    },
    {
      "cell_type": "code",
      "source": [
        "from datetime import datetime\n",
        "\n",
        "def data_check(date):\n",
        "  try:\n",
        "    datetime.strptime(date, '%Y-%m-%d')\n",
        "    return True\n",
        "  except ValueError:\n",
        "    return False\n",
        "\n",
        "\n",
        "stream = ['2018-04-02', '2018-02-29', '2018-19-02']\n",
        "for date in stream:\n",
        "  print(data_check(date))"
      ],
      "metadata": {
        "colab": {
          "base_uri": "https://localhost:8080/"
        },
        "id": "AVSa3BFcvcBr",
        "outputId": "27386556-85d2-40e3-d623-f1450559f452"
      },
      "execution_count": null,
      "outputs": [
        {
          "output_type": "stream",
          "name": "stdout",
          "text": [
            "True\n",
            "False\n",
            "False\n"
          ]
        }
      ]
    },
    {
      "cell_type": "markdown",
      "source": [
        "Задание 3:\n",
        ">Напишите функцию date_range, которая возвращает список дат за период от start_date до end_date. Даты должны вводиться в формате YYYY-MM-DD. В случае неверного формата или при start_date > end_date должен возвращаться пустой список."
      ],
      "metadata": {
        "id": "X3ssjY0txefz"
      }
    },
    {
      "cell_type": "code",
      "source": [
        "from datetime import datetime\n",
        "\n",
        "def data_check(date):\n",
        "  try:\n",
        "    datetime.strptime(date, '%Y-%m-%d')\n",
        "    return True\n",
        "  except ValueError:\n",
        "    return False\n",
        "\n",
        "def date_range(start_date, end_date):\n",
        "    if not data_check(start_date) or not data_check(end_date):\n",
        "      return []\n",
        "    start = datetime.strptime(start_date, '%Y-%m-%d')\n",
        "    end = datetime.strptime(end_date, '%Y-%m-%d')\n",
        "    if start > end:           # т.к. формат даты '%Y-%m-%d' то можно не переводя при помощи функции datetime.strptime() сравнивать даты\n",
        "      return []\n",
        "    dates =[]\n",
        "    while start <= end:\n",
        "      dates.append(start.strftime('%Y-%m-%d'))\n",
        "      start += timedelta(days=1)\n",
        "    return dates\n",
        "\n",
        "\n",
        "print(date_range('2022-03-17', '2022-03-22'))\n",
        "print(date_range('2022-03-22', '2022-03-17'))\n",
        "print(date_range('22-03-17', '22-03-22'))"
      ],
      "metadata": {
        "colab": {
          "base_uri": "https://localhost:8080/"
        },
        "id": "sALPachixeBZ",
        "outputId": "d26630dd-f59e-4aa3-b7c1-e661b4c881de"
      },
      "execution_count": null,
      "outputs": [
        {
          "output_type": "stream",
          "name": "stdout",
          "text": [
            "['2022-03-17', '2022-03-18', '2022-03-19', '2022-03-20', '2022-03-21', '2022-03-22']\n",
            "[]\n",
            "[]\n"
          ]
        }
      ]
    },
    {
      "cell_type": "code",
      "source": [
        "# Выполнение одной функцией, т.е. взял ту же функцию выше и вставил в тело этой функции.\n",
        "from datetime import datetime\n",
        "\n",
        "def date_range(start_date, end_date):\n",
        "  try:\n",
        "    start = datetime.strptime(start_date, '%Y-%m-%d') # если этот блок выполнится с ошибкой, то\n",
        "    end = datetime.strptime(end_date, '%Y-%m-%d') # в работу вступит except.\n",
        "    if start > end:           # т.к. формат даты '%Y-%m-%d' то можно не переводя при помощи функции datetime.strptime() сравнивать даты\n",
        "      return []\n",
        "    dates =[]\n",
        "    while start <= end:\n",
        "      dates.append(start.strftime('%Y-%m-%d'))\n",
        "      start += timedelta(days=1)  # так и не понял почему подчеркивает, но по крайней мере работает\n",
        "    return dates                  # возможно зависит как вызывать ее.\n",
        "  except ValueError:\n",
        "    return []\n",
        "\n",
        "print(date_range('2022-03-17', '2022-03-22'))\n",
        "print(date_range('2022-03-22', '2022-03-17'))\n",
        "print(date_range('22-03-17', '22-03-22'))"
      ],
      "metadata": {
        "colab": {
          "base_uri": "https://localhost:8080/"
        },
        "id": "0UPag9fgDEe5",
        "outputId": "bfb150db-4ca3-4276-fd56-5e4d8fee99aa"
      },
      "execution_count": null,
      "outputs": [
        {
          "output_type": "stream",
          "name": "stdout",
          "text": [
            "['2022-03-17', '2022-03-18', '2022-03-19', '2022-03-20', '2022-03-21', '2022-03-22']\n",
            "[]\n",
            "[]\n"
          ]
        }
      ]
    },
    {
      "cell_type": "markdown",
      "source": [
        "Задание 4:\n",
        "Ваш коллега прислал код функции:\n",
        "\n",
        ">DEFAULT_USER_COUNT = 3\\\n",
        "def delete_and_return_last_user(region, default_list=[‘A100’, ‘A101’, ‘A102’]):\\\n",
        "\"\"“\\\n",
        "Удаляет из списка default_list последнего пользователя\n",
        "и возвращает ID нового последнего пользователя.\\\n",
        "”\"\"\\\n",
        "element_to_delete = default_list[-1]\\\n",
        "default_list.remove(element_to_delete)\\\n",
        "return default_list[DEFAULT_USER_COUNT-2]\\\n",
        "\n",
        "При однократном вызове этой функции всё работает корректно:\\\n",
        ">delete_and_return_last_user(1)\\\n",
        "‘A101’\n",
        "\n",
        "Однако при повторном вызове получается\n",
        "> ошибка IndexError: list index out of range.\n",
        "\n",
        "Задание:\n",
        "\n",
        "* Что значит ошибка list index out of range?\n",
        "* Почему при первом запуске функция работает корректно, а при втором — нет?\n"
      ],
      "metadata": {
        "id": "jxIY1Z9KGYFw"
      }
    },
    {
      "cell_type": "code",
      "source": [
        "DEFAULT_USER_COUNT = 3\n",
        "\n",
        "def delete_and_return_last_user(region, default_list=['A100', 'A101', 'A102']):\n",
        "  element_to_delete = default_list[-1] # здесь присваиваем переменной последнюю строчку списка\n",
        "  default_list.remove(element_to_delete) # тут удаляем строку из списка\n",
        "  return default_list[DEFAULT_USER_COUNT-2] #  по идее после первого запуска остается так:\n",
        "  # default_list=['A100', 'A101']\n",
        "  # и в результат выведет default_list[1] = 'A101'\n",
        "  # второй раз останется такой список default_list=['A100']\n",
        "  #  а вот вывести default_list[1] не получится, т.к. нет значения под этим индексом. Значение есть только на [0] индексе.\n",
        "\n",
        "\n",
        "delete_and_return_last_user(1)\n",
        "\n",
        "# По идее DEFAULT_USER_COUNT = 3 это у нас длина списка len(default_list)\n",
        "# Можно сделать так try: return default_list[-1], а как вывалится ошибка except:  default_list[0]\n",
        "# Либо через условие  ifn len(default_list) > 1 ... return default_list[-1] else:  return default_list[0]\n",
        "# Ну так же можно прикрутить цикл к примеру к варианту с try / except, а не каждый раз запускать пошагово итерацию while len(default_list) > 1: ...  в общем все что душе угодно =) было бы желание."
      ],
      "metadata": {
        "colab": {
          "base_uri": "https://localhost:8080/",
          "height": 35
        },
        "id": "ovWAqTIcGXCs",
        "outputId": "ba5993a4-d0fc-47ce-f015-29e49d2fcacf"
      },
      "execution_count": null,
      "outputs": [
        {
          "output_type": "execute_result",
          "data": {
            "text/plain": [
              "'A101'"
            ],
            "application/vnd.google.colaboratory.intrinsic+json": {
              "type": "string"
            }
          },
          "metadata": {},
          "execution_count": 159
        }
      ]
    },
    {
      "cell_type": "markdown",
      "source": [
        "«Понятие класса»"
      ],
      "metadata": {
        "id": "NDIfKEQ5uRBm"
      }
    },
    {
      "cell_type": "markdown",
      "source": [
        "Задание 1.1: \\\n",
        ">Напишите функцию, которая возвращает название валюты (поле ‘Name’) с максимальным значением курса с помощью сервиса www.cbr-xml-daily.ru...ly_json.js"
      ],
      "metadata": {
        "id": "bNpQlp8vH-CB"
      }
    },
    {
      "cell_type": "markdown",
      "source": [
        "Задание 1.2:\\\n",
        ">Добавьте в класс Rate параметр diff (со значениями True или False), который в случае значения True в методах курсов валют (eur, usd итд) будет возвращать не курс валюты, а изменение по сравнению в прошлым значением. Считайте, self.diff будет принимать значение True только при возврате значения курса. При отображении всей информации о валюте он не используется."
      ],
      "metadata": {
        "id": "R5_RYkp5lY9z"
      }
    },
    {
      "cell_type": "code",
      "source": [
        "# Второй вариант по выводу максимального значения в значении 'Value':\n",
        "import requests\n",
        "r = requests.get('https://www.cbr-xml-daily.ru/daily_json.js')\n",
        "\n",
        "data_dict = r.json()['Valute']\n",
        "max(data_dict.items(), key=lambda x: x[1]['Value'])[1]['Name']"
      ],
      "metadata": {
        "id": "F3g5PfvButfs"
      },
      "execution_count": null,
      "outputs": []
    },
    {
      "cell_type": "code",
      "source": [
        "import requests  # Функция по выводу максимального значения в значении 'Value'\n",
        "\n",
        "def get_max():\n",
        "      res = requests.get('https://www.cbr-xml-daily.ru/daily_json.js')\n",
        "      response = res.json()['Valute']\n",
        "      max_rate = 0\n",
        "      max_name = ''\n",
        "      for currency in response.values():\n",
        "        if currency['Value'] > max_rate:\n",
        "          max_rate = currency['Value']\n",
        "          max_name = currency['Name']\n",
        "      return max_name, max_rate\n",
        "\n",
        "get_max()"
      ],
      "metadata": {
        "colab": {
          "base_uri": "https://localhost:8080/"
        },
        "id": "OZ8iW6_lrbru",
        "outputId": "2eb2a3cf-5438-4aa6-cfab-e28b9b3f339b"
      },
      "execution_count": null,
      "outputs": [
        {
          "output_type": "execute_result",
          "data": {
            "text/plain": [
              "('СДР (специальные права заимствования)', 112.8904)"
            ]
          },
          "metadata": {},
          "execution_count": 190
        }
      ]
    },
    {
      "cell_type": "code",
      "source": [
        "# Вариант с наследованием, не знаю на сколько верно использовать без def __init__():\n",
        "\n",
        "class Exp_Rate(Rate):\n",
        "  def get_max(self):\n",
        "    response = self.exchange_rates()\n",
        "    max_rate = 0\n",
        "    max_name = ''\n",
        "    for currency in response.values():\n",
        "      if currency['Value'] > max_rate:\n",
        "        max_rate = currency['Value']\n",
        "        max_name = currency['Name']\n",
        "    return max_name\n",
        "\n",
        "Exp_Rate().get_max()"
      ],
      "metadata": {
        "colab": {
          "base_uri": "https://localhost:8080/",
          "height": 35
        },
        "id": "6v8jP8og7cFQ",
        "outputId": "624be3e1-02ed-4322-8769-d29796aabe92"
      },
      "execution_count": null,
      "outputs": [
        {
          "output_type": "execute_result",
          "data": {
            "text/plain": [
              "'СДР (специальные права заимствования)'"
            ],
            "application/vnd.google.colaboratory.intrinsic+json": {
              "type": "string"
            }
          },
          "metadata": {},
          "execution_count": 198
        }
      ]
    },
    {
      "cell_type": "code",
      "source": [
        "# Копи паст того что было, ну и добавил в работу функцию на максимальное значение и дополнил функцию\n",
        "# по второму заданию.\n",
        "\n",
        "class Rate:\n",
        "    def __init__(self, format_='value', diff_=False):\n",
        "        self.format = format_\n",
        "        self.diff = diff_\n",
        "\n",
        "    def exchange_rates(self):\n",
        "        \"\"\"\n",
        "        Возвращает ответ сервиса с информацией о валютах в виде:\n",
        "\n",
        "        {\n",
        "            'AMD': {\n",
        "                'CharCode': 'AMD',\n",
        "                'ID': 'R01060',\n",
        "                'Name': 'Армянских драмов',\n",
        "                'Nominal': 100,\n",
        "                'NumCode': '051',\n",
        "                'Previous': 14.103,\n",
        "                'Value': 14.0879\n",
        "                },\n",
        "            ...\n",
        "        }\n",
        "        \"\"\"\n",
        "        self.r = requests.get('https://www.cbr-xml-daily.ru/daily_json.js')\n",
        "        return self.r.json()['Valute']\n",
        "\n",
        "    def get_max_currency_name(self):\n",
        "      response = self.exchange_rates()\n",
        "      max_rate = 0\n",
        "      max_name = ''\n",
        "      for currency in response.values():\n",
        "        if currency['Value'] > max_rate:\n",
        "          max_rate = currency['Value']\n",
        "          max_name = currency['Name']\n",
        "      return max_name\n",
        "\n",
        "    def make_format(self, currency):\n",
        "        \"\"\"\n",
        "        Возвращает информацию о валюте currency в двух вариантах:\n",
        "        - полная информация о валюте при self.format = 'full':\n",
        "        Rate('full').make_format('EUR')\n",
        "        {\n",
        "            'CharCode': 'EUR',\n",
        "            'ID': 'R01239',\n",
        "            'Name': 'Евро',\n",
        "            'Nominal': 1,\n",
        "            'NumCode': '978',\n",
        "            'Previous': 79.6765,\n",
        "            'Value': 79.4966\n",
        "        }\n",
        "\n",
        "        Rate('value').make_format('EUR')\n",
        "        79.4966\n",
        "        \"\"\"\n",
        "        response = self.exchange_rates()\n",
        "\n",
        "        if currency in response:\n",
        "            if self.format == 'full':\n",
        "                return response[currency]\n",
        "            if self.format == 'value':\n",
        "                if self.diff == True:\n",
        "                    return print(f\"Текущее значение {response[currency]['Value']} Изменение на: {response[currency]['Value'] - response[currency]['Previous']}\")\n",
        "                else:\n",
        "                    return response[currency]['Value']\n",
        "\n",
        "        return 'Error'\n",
        "\n",
        "    def eur(self):\n",
        "        \"\"\"Возвращает курс евро на сегодня в формате self.format\"\"\"\n",
        "        return self.make_format('EUR')\n",
        "\n",
        "    def usd(self):\n",
        "        \"\"\"Возвращает курс доллара на сегодня в формате self.format\"\"\"\n",
        "        return self.make_format('USD')\n",
        "\n",
        "    def brl(self):\n",
        "        \"\"\"Возвращает курс бразильского реала на сегодня в формате self.format\"\"\"\n",
        "        return self.make_format('BRL')"
      ],
      "metadata": {
        "id": "UIi0SwVee02-"
      },
      "execution_count": null,
      "outputs": []
    },
    {
      "cell_type": "code",
      "source": [
        "Rate().get_max_currency_name()"
      ],
      "metadata": {
        "colab": {
          "base_uri": "https://localhost:8080/",
          "height": 35
        },
        "id": "_6ZUlE2_oQ4c",
        "outputId": "db44ca0f-83ed-415c-8225-e66adf5a3bbe"
      },
      "execution_count": null,
      "outputs": [
        {
          "output_type": "execute_result",
          "data": {
            "text/plain": [
              "'СДР (специальные права заимствования)'"
            ],
            "application/vnd.google.colaboratory.intrinsic+json": {
              "type": "string"
            }
          },
          "metadata": {},
          "execution_count": 192
        }
      ]
    },
    {
      "cell_type": "code",
      "source": [
        "Rate('value',True).eur()"
      ],
      "metadata": {
        "colab": {
          "base_uri": "https://localhost:8080/"
        },
        "id": "qrTBZSc22iif",
        "outputId": "8a1cfaaa-180d-4db8-9bde-457ec855746b"
      },
      "execution_count": null,
      "outputs": [
        {
          "output_type": "stream",
          "name": "stdout",
          "text": [
            "Текущее значение 92.2969 Изменение на: 0.8035999999999888\n"
          ]
        }
      ]
    },
    {
      "cell_type": "code",
      "source": [
        "Rate('full', True).eur()"
      ],
      "metadata": {
        "colab": {
          "base_uri": "https://localhost:8080/"
        },
        "id": "uMiv9Aau3kJB",
        "outputId": "442f9d76-5680-4cd8-b0ff-6aef177b0666"
      },
      "execution_count": null,
      "outputs": [
        {
          "output_type": "execute_result",
          "data": {
            "text/plain": [
              "{'ID': 'R01239',\n",
              " 'NumCode': '978',\n",
              " 'CharCode': 'EUR',\n",
              " 'Nominal': 1,\n",
              " 'Name': 'Евро',\n",
              " 'Value': 93.1373,\n",
              " 'Previous': 92.2969}"
            ]
          },
          "metadata": {},
          "execution_count": 200
        }
      ]
    },
    {
      "cell_type": "code",
      "source": [
        "Rate('value').eur()"
      ],
      "metadata": {
        "colab": {
          "base_uri": "https://localhost:8080/"
        },
        "id": "viruoL5l9rpD",
        "outputId": "98fc4e3c-e1cd-48ac-e30f-9072f08c923a"
      },
      "execution_count": null,
      "outputs": [
        {
          "output_type": "execute_result",
          "data": {
            "text/plain": [
              "93.1373"
            ]
          },
          "metadata": {},
          "execution_count": 201
        }
      ]
    },
    {
      "cell_type": "markdown",
      "source": [
        "Задание 3:\n",
        ">Напишите класс Designer, который учитывает количество международных премий. Подсказки в коде занятия в разделе “Домашнее задание задача 3”."
      ],
      "metadata": {
        "id": "L09j9g3qmNl8"
      }
    },
    {
      "cell_type": "code",
      "source": [
        "class Employee:\n",
        "    def __init__(self, name, seniority):\n",
        "        self.name = name\n",
        "        self.seniority = seniority\n",
        "        self.grade = 1\n",
        "\n",
        "    def grade_up(self):\n",
        "        \"\"\"Повышает уровень сотрудника\"\"\"\n",
        "        self.grade += 1\n",
        "\n",
        "    def publish_grade(self):\n",
        "        \"\"\"Публикация результатов аккредитации сотрудников\"\"\"\n",
        "        print(self.name, self.grade)"
      ],
      "metadata": {
        "id": "3_gWK3oSmTjg"
      },
      "execution_count": null,
      "outputs": []
    },
    {
      "cell_type": "code",
      "source": [
        "class Designer(Employee):\n",
        "    def __init__(self, name, seniority, awards):\n",
        "        super().__init__(name, seniority + awards)\n",
        "\n",
        "    def check_if_it_is_time_for_upgrade(self):\n",
        "        self.seniority += 1\n",
        "        if self.seniority % 7 == 0: # Если аккредитация была 7 (проверяем через кратность 7)\n",
        "            self.grade_up()  # то отправлеяем в метод повышения грейда\n",
        "        return self.publish_grade() # возврат результатов"
      ],
      "metadata": {
        "id": "jkaF-HYSmmN6"
      },
      "execution_count": null,
      "outputs": []
    },
    {
      "cell_type": "code",
      "source": [
        "alex = Designer('Александр', 1, 1)"
      ],
      "metadata": {
        "id": "0-x6xn-HC4-e"
      },
      "execution_count": null,
      "outputs": []
    },
    {
      "cell_type": "code",
      "source": [
        "for i in range(50):\n",
        "  alex.check_if_it_is_time_for_upgrade()"
      ],
      "metadata": {
        "colab": {
          "base_uri": "https://localhost:8080/"
        },
        "id": "OWxJuIrME1yH",
        "outputId": "25054fd3-6aaf-4feb-c395-a9f03c9b5a23"
      },
      "execution_count": null,
      "outputs": [
        {
          "output_type": "stream",
          "name": "stdout",
          "text": [
            "Александр 1\n",
            "Александр 1\n",
            "Александр 1\n",
            "Александр 1\n",
            "Александр 2\n",
            "Александр 2\n",
            "Александр 2\n",
            "Александр 2\n",
            "Александр 2\n",
            "Александр 2\n",
            "Александр 2\n",
            "Александр 3\n",
            "Александр 3\n",
            "Александр 3\n",
            "Александр 3\n",
            "Александр 3\n",
            "Александр 3\n",
            "Александр 3\n",
            "Александр 4\n",
            "Александр 4\n",
            "Александр 4\n",
            "Александр 4\n",
            "Александр 4\n",
            "Александр 4\n",
            "Александр 4\n",
            "Александр 5\n",
            "Александр 5\n",
            "Александр 5\n",
            "Александр 5\n",
            "Александр 5\n",
            "Александр 5\n",
            "Александр 5\n",
            "Александр 6\n",
            "Александр 6\n",
            "Александр 6\n",
            "Александр 6\n",
            "Александр 6\n",
            "Александр 6\n",
            "Александр 6\n",
            "Александр 7\n",
            "Александр 7\n",
            "Александр 7\n",
            "Александр 7\n",
            "Александр 7\n",
            "Александр 7\n",
            "Александр 7\n",
            "Александр 8\n",
            "Александр 8\n",
            "Александр 8\n",
            "Александр 8\n"
          ]
        }
      ]
    },
    {
      "cell_type": "markdown",
      "source": [],
      "metadata": {
        "id": "HYCg3CZDu9vE"
      }
    }
  ]
}